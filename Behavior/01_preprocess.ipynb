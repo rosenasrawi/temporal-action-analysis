{
 "cells": [
  {
   "cell_type": "code",
   "execution_count": null,
   "metadata": {},
   "outputs": [],
   "source": [
    "import pandas as pd\n",
    "import numpy as np\n",
    "\n",
    "import sys, os\n",
    "\n",
    "os.chdir(sys.path[0])\n",
    "os.chdir('../EEG')\n",
    "\n",
    "from _parameters import *\n"
   ]
  },
  {
   "cell_type": "code",
   "execution_count": null,
   "metadata": {},
   "outputs": [],
   "source": [
    "def process(sub):\n",
    "\n",
    "    log_edit = pd.DataFrame()\n",
    "\n",
    "    for ses in sessions:\n",
    "\n",
    "        # Load session data\n",
    "        ses_fname = f'/log_s{sub}{ses}.csv'\n",
    "        log = pd.read_csv(dirs['log'] + ses_fname)\n",
    "\n",
    "        log.insert(0, 'session', ses)\n",
    "        log.insert(0, 'subject', sub)\n",
    "\n",
    "        same = log['order'] == 'first'\n",
    "        rev = log['order'] == 'second'\n",
    "        vals = ['low', 'high', 'low']\n",
    "\n",
    "        # Calc tradeoff\n",
    "        log['DT_diff'] = log['DT1']-log['DT2']\n",
    "        log['DT_trade'] = log['DT1']-log['DT2']\n",
    "        log['err_diff'] = log['diff1']-log['diff2']\n",
    "        log['err_trade'] = log['diff1']-log['diff2']\n",
    "\n",
    "        # Median split trade-off\n",
    "        for var in ['DT_trade', 'err_trade']:\n",
    "\n",
    "            med_same = log[var][same].median()\n",
    "            med_rev = log[var][rev].median()\n",
    "\n",
    "            conds = [\n",
    "                same & (log[var] < med_same),\n",
    "                same & (log[var] >= med_same),\n",
    "                rev & (log[var] < med_rev),\n",
    "            ]\n",
    "\n",
    "            log[var] = np.select(conds, vals, default='high')\n",
    "\n",
    "        # Mark bad DT\n",
    "            \n",
    "        # Find bad DT\n",
    "        thres_DT1 = log['DT1'].mean() + 2.5 * log['DT1'].std()\n",
    "        thres_DT2 = log['DT2'].mean() + 2.5 * log['DT2'].std()\n",
    "\n",
    "        log['bad_DT'] = (log['DT1'] >= thres_DT1) | (log['DT2'] >= thres_DT2)\n",
    "        \n",
    "        # Concat sessions\n",
    "        log_edit = pd.concat([log_edit, log], axis = 0, ignore_index=True)\n",
    "\n",
    "    # Save sub data\n",
    "    log_fname = dirs['log'] + f'/log_s{sub}_edit.csv'\n",
    "    log_edit.to_csv(log_fname, index=False)\n",
    "\n",
    "    return log_edit"
   ]
  },
  {
   "cell_type": "code",
   "execution_count": null,
   "metadata": {},
   "outputs": [],
   "source": [
    "# Process all and save\n",
    "\n",
    "log_all = []\n",
    "\n",
    "for sub in subjects:\n",
    "    log_edit = process(sub)\n",
    "    log_all.append(log_edit)\n",
    "\n",
    "log_all = pd.concat(log_all, axis = 0, ignore_index=True)\n",
    "\n",
    "log_fname = dirs['log'] + '/log_edit_all.csv'\n",
    "log_all.to_csv(log_fname, index=False)"
   ]
  }
 ],
 "metadata": {
  "kernelspec": {
   "display_name": "mne",
   "language": "python",
   "name": "python3"
  },
  "language_info": {
   "codemirror_mode": {
    "name": "ipython",
    "version": 3
   },
   "file_extension": ".py",
   "mimetype": "text/x-python",
   "name": "python",
   "nbconvert_exporter": "python",
   "pygments_lexer": "ipython3",
   "version": "3.10.6"
  }
 },
 "nbformat": 4,
 "nbformat_minor": 2
}

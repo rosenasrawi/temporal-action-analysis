{
 "cells": [
  {
   "cell_type": "code",
   "execution_count": null,
   "metadata": {},
   "outputs": [],
   "source": [
    "import mne\n",
    "import numpy as np\n",
    "\n",
    "import copy\n",
    "import pickle\n",
    "import scipy\n",
    "\n",
    "import os\n",
    "os.chdir('..')\n",
    "from _parameters import *\n",
    "\n",
    "from IPython.display import clear_output"
   ]
  },
  {
   "cell_type": "code",
   "execution_count": null,
   "metadata": {},
   "outputs": [],
   "source": [
    "def open_tfr(s, moment, modal):\n",
    "    \n",
    "    # Dict per cond\n",
    "    tfr = {c: None for c in cond[modal]}\n",
    "\n",
    "    # Read tfr per cond\n",
    "    for c in cond[modal]:\n",
    "\n",
    "        tfr_fname = dirs['tfr'] + '/tfr_multi_' + moment + '_' + c.replace('/', '_') + '_s' + str(s) + '.h5'    \n",
    "\n",
    "        # Add to dict\n",
    "        tfr[c] = mne.time_frequency.read_tfrs(fname=tfr_fname)[0]\n",
    "\n",
    "    return tfr"
   ]
  },
  {
   "cell_type": "code",
   "execution_count": null,
   "metadata": {},
   "outputs": [],
   "source": [
    "def calc_cvsi(tfr, trials_L, trials_R, chan_L, chan_R):\n",
    "\n",
    "    tfr_cpy = copy.deepcopy(tfr)\n",
    "\n",
    "    # Left channels\n",
    "    contra_L = tfr_cpy[trials_R].pick(chan_L).data.mean(0) # contra\n",
    "    ipsi_L = tfr_cpy[trials_L].pick(chan_L).data.mean(0) # ipsi\n",
    "\n",
    "    cvsi_L = ((contra_L - ipsi_L) / (contra_L + ipsi_L)) * 100\n",
    "\n",
    "    tfr_cpy = copy.deepcopy(tfr)\n",
    "    \n",
    "    # Right channels\n",
    "    contra_R = tfr_cpy[trials_L].pick(chan_R).data.mean(0) # contra\n",
    "    ipsi_R = tfr_cpy[trials_R].pick(chan_R).data.mean(0) # ipsi\n",
    "\n",
    "    cvsi_R = ((contra_R - ipsi_R) / (contra_R + ipsi_R)) * 100\n",
    "\n",
    "    # Average\n",
    "    cvsi = np.mean(np.asarray([cvsi_L, cvsi_R]), 0)\n",
    "\n",
    "    return cvsi"
   ]
  },
  {
   "cell_type": "code",
   "execution_count": null,
   "metadata": {},
   "outputs": [],
   "source": [
    "def get_cvsi(subs, moment):\n",
    "\n",
    "    # Empty list for each cond\n",
    "    cvsi_cond = ['vis', 'mot']\n",
    "    cvsi_dat = {c:[] for c in cvsi_cond}\n",
    "\n",
    "    # Loop over subs\n",
    "    for s in subs:\n",
    "\n",
    "        # Get tfr data\n",
    "        tfr_vis = open_tfr(s, moment, 'visual')\n",
    "        tfr_mot = open_tfr(s, moment, 'motor')\n",
    "\n",
    "        # vis and mot\n",
    "        cvsi_dat['vis'].append(\n",
    "            calc_cvsi(tfr_vis, 'itemL', 'itemR', 'PO7', 'PO8')\n",
    "        )\n",
    "        cvsi_dat['mot'].append(\n",
    "            calc_cvsi(tfr_mot, 'respL', 'respR', 'C3', 'C4')\n",
    "        )\n",
    "\n",
    "        clear_output(wait = False)\n",
    "\n",
    "    # Avg over subs\n",
    "    cvsi_avg = {c:None for c in cvsi_cond}\n",
    "\n",
    "    for c in cvsi_dat.keys():\n",
    "        cvsi_avg[c] = np.mean(np.asarray(cvsi_dat[c]),0)\n",
    "\n",
    "    return cvsi_dat, cvsi_avg"
   ]
  },
  {
   "cell_type": "code",
   "execution_count": null,
   "metadata": {},
   "outputs": [],
   "source": [
    "def get_cvsi_samerev(subs, moment):\n",
    "\n",
    "    # Empty list for each cond\n",
    "    cvsi_cond = ['vis/same', 'vis/rvrs', 'mot/same', 'mot/rvrs']\n",
    "    cvsi_dat = {c:[] for c in cvsi_cond}\n",
    "\n",
    "    # Loop over subs\n",
    "    for s in subs:\n",
    "\n",
    "        # Get tfr data\n",
    "        tfr_vis_samerev = open_tfr(s, moment, 'vis-samerev')\n",
    "        tfr_mot_samerev = open_tfr(s, moment, 'mot-samerev')\n",
    "\n",
    "        # calc cvsi per cond\n",
    "        cvsi_dat['vis/same'].append(\n",
    "            calc_cvsi(tfr_vis_samerev, 'same/itemL', 'same/itemR', 'PO7', 'PO8')\n",
    "        )\n",
    "        cvsi_dat['vis/rvrs'].append(\n",
    "            calc_cvsi(tfr_vis_samerev, 'rvrs/itemL', 'rvrs/itemR', 'PO7', 'PO8')\n",
    "        )\n",
    "        cvsi_dat['mot/same'].append(\n",
    "            calc_cvsi(tfr_mot_samerev, 'same/respL', 'same/respR', 'C3', 'C4')\n",
    "        )\n",
    "        cvsi_dat['mot/rvrs'].append(\n",
    "            calc_cvsi(tfr_mot_samerev, 'rvrs/respL', 'rvrs/respR', 'C3', 'C4')\n",
    "        )\n",
    "\n",
    "        clear_output(wait = False)\n",
    "\n",
    "    # Avg over subs\n",
    "    cvsi_avg = {c:None for c in cvsi_cond}\n",
    "\n",
    "    for c in cvsi_dat.keys():\n",
    "        cvsi_avg[c] = np.mean(np.asarray(cvsi_dat[c]),0)\n",
    "\n",
    "    return cvsi_dat, cvsi_avg"
   ]
  },
  {
   "cell_type": "code",
   "execution_count": null,
   "metadata": {},
   "outputs": [],
   "source": [
    "def get_tc(data, fband: list, frange = [3,40]):\n",
    "\n",
    "    # Freq band index\n",
    "    flow, fhigh = [f-frange[0] for f in fband]\n",
    "\n",
    "    # Get freq avg time-course\n",
    "    tc = np.asarray(data)\n",
    "\n",
    "    tc = tc[:, flow:fhigh+1, :]\n",
    "    tc = np.mean(tc, 1)\n",
    "\n",
    "    # Gaussian filter\n",
    "    tc = scipy.ndimage.gaussian_filter1d(tc,10)\n",
    "\n",
    "    return tc"
   ]
  },
  {
   "cell_type": "code",
   "execution_count": null,
   "metadata": {},
   "outputs": [],
   "source": [
    "def tfr_to_tc(moment):\n",
    "    \n",
    "    # Load data\n",
    "    cvsi_avg_f = open(dirs['cvsi'] + '/cvsi_' + moment + '.pkl', 'rb')\n",
    "    cvsi_dat, _ = pickle.load(cvsi_avg_f)\n",
    "\n",
    "    cvsi_avg_f.close()\n",
    "\n",
    "    # Open a TFR file\n",
    "    tfr_fname = dirs['tfr'] + '/tfr_multi_' + moment + '_itemL_s1.h5'\n",
    "    tfr = mne.time_frequency.read_tfrs(fname=tfr_fname)[0]\n",
    "\n",
    "    # Get time-course data for all participants\n",
    "\n",
    "    cvsi_tc = {c:None for c in cvsi_dat.keys()}\n",
    "\n",
    "    for c in cvsi_dat.keys():\n",
    "\n",
    "        if 'vis' in c: fband = [8,12]\n",
    "        elif 'mot' in c: fband = [13,30]\n",
    "\n",
    "        tc = get_tc(cvsi_dat[c], fband)\n",
    "\n",
    "        cvsi_tc[c] = tc\n",
    "\n",
    "    cvsi_tc['time'] = tfr.times\n",
    "\n",
    "    # Save time-courses\n",
    "\n",
    "    cvsi_tc_f = open(dirs['cvsi'] + '/cvsi_tc_' + moment + '.pkl', 'wb')\n",
    "\n",
    "    pickle.dump(cvsi_tc, cvsi_tc_f)\n",
    "    cvsi_tc_f.close()"
   ]
  },
  {
   "cell_type": "code",
   "execution_count": null,
   "metadata": {},
   "outputs": [],
   "source": [
    "def run_cvsi(moment, samerev=False):\n",
    "    if samerev:\n",
    "        cvsi_dat, cvsi_avg = get_cvsi_samerev(subjects, moment)\n",
    "    else:\n",
    "        cvsi_dat, cvsi_avg = get_cvsi(subjects, moment)\n",
    "\n",
    "    # Save as pickle\n",
    "    cvsi_dat_f = open(dirs['cvsi'] + '/cvsi_' + moment + '.pkl', 'wb')\n",
    "    pickle.dump([cvsi_dat, cvsi_avg], cvsi_dat_f)\n",
    "    cvsi_dat_f.close()\n",
    "\n",
    "    tfr_to_tc(moment)"
   ]
  },
  {
   "cell_type": "code",
   "execution_count": null,
   "metadata": {},
   "outputs": [],
   "source": [
    "# Locked to encoding\n",
    "\n",
    "run_cvsi('enc1')"
   ]
  },
  {
   "cell_type": "code",
   "execution_count": null,
   "metadata": {},
   "outputs": [],
   "source": [
    "# Locked to probe (1)\n",
    "\n",
    "run_cvsi('prob1')"
   ]
  },
  {
   "cell_type": "code",
   "execution_count": null,
   "metadata": {},
   "outputs": [],
   "source": [
    "# Locked to probe (2)\n",
    "\n",
    "run_cvsi('prob2')"
   ]
  },
  {
   "cell_type": "code",
   "execution_count": null,
   "metadata": {},
   "outputs": [],
   "source": [
    "# Locked to resp (1)\n",
    "\n",
    "run_cvsi('resp1')\n"
   ]
  },
  {
   "cell_type": "code",
   "execution_count": null,
   "metadata": {},
   "outputs": [],
   "source": [
    "# Locked to resp (2)\n",
    "\n",
    "run_cvsi('resp2')"
   ]
  }
 ],
 "metadata": {
  "kernelspec": {
   "display_name": "mne",
   "language": "python",
   "name": "python3"
  },
  "language_info": {
   "codemirror_mode": {
    "name": "ipython",
    "version": 3
   },
   "file_extension": ".py",
   "mimetype": "text/x-python",
   "name": "python",
   "nbconvert_exporter": "python",
   "pygments_lexer": "ipython3",
   "version": "3.10.6"
  }
 },
 "nbformat": 4,
 "nbformat_minor": 2
}

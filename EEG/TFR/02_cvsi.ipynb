{
 "cells": [
  {
   "cell_type": "code",
   "execution_count": null,
   "metadata": {},
   "outputs": [],
   "source": [
    "import mne\n",
    "import sys\n",
    "\n",
    "sys.path.append('..')\n",
    "\n",
    "from _parameters import *\n",
    "sys.path.remove('..')\n"
   ]
  },
  {
   "cell_type": "code",
   "execution_count": null,
   "metadata": {},
   "outputs": [],
   "source": [
    "def open_tfr(s, moment, modal):\n",
    "    \n",
    "    # Dict per cond\n",
    "    tfr = dict.fromkeys(cond[modal], None)\n",
    "\n",
    "    # Read tfr per cond\n",
    "    for c in cond[modal]:\n",
    "\n",
    "        tfr_fname = dirs['tfr'] + '/tfr_' + moment + '_' + c.replace('/', '_') + '_s' + str(s) + '.h5'    \n",
    "\n",
    "        # Add to dict\n",
    "        tfr[c] = mne.time_frequency.read_tfrs(fname=tfr_fname)[0]\n",
    "\n",
    "    return tfr"
   ]
  },
  {
   "cell_type": "code",
   "execution_count": null,
   "metadata": {},
   "outputs": [],
   "source": [
    "tfr_vis = open_tfr(s=1, moment = 'enc1', modal = 'visual')"
   ]
  }
 ],
 "metadata": {
  "kernelspec": {
   "display_name": "mne",
   "language": "python",
   "name": "python3"
  },
  "language_info": {
   "codemirror_mode": {
    "name": "ipython",
    "version": 3
   },
   "file_extension": ".py",
   "mimetype": "text/x-python",
   "name": "python",
   "nbconvert_exporter": "python",
   "pygments_lexer": "ipython3",
   "version": "3.10.6"
  }
 },
 "nbformat": 4,
 "nbformat_minor": 2
}

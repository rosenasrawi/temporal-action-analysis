{
 "cells": [
  {
   "cell_type": "code",
   "execution_count": null,
   "metadata": {},
   "outputs": [],
   "source": [
    "import mne\n",
    "import numpy as np\n",
    "\n",
    "import sys\n",
    "import copy\n",
    "import pickle\n",
    "\n",
    "sys.path.append('..')\n",
    "\n",
    "from _parameters import *\n",
    "sys.path.remove('..')\n",
    "\n",
    "from IPython.display import clear_output"
   ]
  },
  {
   "cell_type": "code",
   "execution_count": null,
   "metadata": {},
   "outputs": [],
   "source": [
    "def open_tfr(s, moment, modal):\n",
    "    \n",
    "    # Dict per cond\n",
    "    tfr = {c: None for c in cond[modal]}\n",
    "\n",
    "    # Read tfr per cond\n",
    "    for c in cond[modal]:\n",
    "\n",
    "        tfr_fname = dirs['tfr'] + '/tfr_' + moment + '_' + c.replace('/', '_') + '_s' + str(s) + '.h5'    \n",
    "\n",
    "        # Add to dict\n",
    "        tfr[c] = mne.time_frequency.read_tfrs(fname=tfr_fname)[0]\n",
    "\n",
    "    return tfr"
   ]
  },
  {
   "cell_type": "code",
   "execution_count": null,
   "metadata": {},
   "outputs": [],
   "source": [
    "def calc_cvsi(tfr, trials_L, trials_R, chan_L, chan_R):\n",
    "\n",
    "    tfr_cpy = copy.deepcopy(tfr)\n",
    "\n",
    "    # Left channels\n",
    "    contra_L = tfr_cpy[trials_R].pick(chan_L).data.mean(0) # contra\n",
    "    ipsi_L = tfr_cpy[trials_L].pick(chan_L).data.mean(0) # ipsi\n",
    "\n",
    "    cvsi_L = ((contra_L - ipsi_L) / (contra_L + ipsi_L)) * 100\n",
    "\n",
    "    tfr_cpy = copy.deepcopy(tfr)\n",
    "    \n",
    "    # Right channels\n",
    "    contra_R = tfr_cpy[trials_L].pick(chan_R).data.mean(0) # contra\n",
    "    ipsi_R = tfr_cpy[trials_R].pick(chan_R).data.mean(0) # ipsi\n",
    "\n",
    "    cvsi_R = ((contra_R - ipsi_R) / (contra_R + ipsi_R)) * 100\n",
    "\n",
    "    # Average\n",
    "    cvsi = np.mean(np.asarray([cvsi_L, cvsi_R]), 0)\n",
    "\n",
    "    return cvsi"
   ]
  },
  {
   "cell_type": "code",
   "execution_count": null,
   "metadata": {},
   "outputs": [],
   "source": [
    "def get_cvsi(subs, moment):\n",
    "\n",
    "    # Empty list for each cond\n",
    "    cvsi_cond = ['vis/same', 'vis/rvrs', 'mot/same', 'mot/rvrs']\n",
    "    cvsi_dat = {c:[] for c in cvsi_cond}\n",
    "\n",
    "    # Loop over subs\n",
    "    for s in subs:\n",
    "\n",
    "        # Get tfr data\n",
    "        tfr_vis = open_tfr(s, moment, 'visual')\n",
    "        tfr_mot = open_tfr(s, moment, 'motor')\n",
    "\n",
    "        # calc cvsi per cond\n",
    "        cvsi_dat['vis/same'].append(\n",
    "            calc_cvsi(tfr_vis, 'same/itemL', 'same/itemR', 'PO7', 'PO8')\n",
    "        )\n",
    "        cvsi_dat['vis/rvrs'].append(\n",
    "            calc_cvsi(tfr_vis, 'rvrs/itemL', 'rvrs/itemR', 'PO7', 'PO8')\n",
    "        )\n",
    "        cvsi_dat['mot/same'].append(\n",
    "            calc_cvsi(tfr_mot, 'same/respL', 'same/respR', 'C3', 'C4')\n",
    "        )\n",
    "        cvsi_dat['mot/rvrs'].append(\n",
    "            calc_cvsi(tfr_mot, 'rvrs/respL', 'rvrs/respR', 'C3', 'C4')\n",
    "        )\n",
    "\n",
    "        clear_output(wait = False)\n",
    "\n",
    "    # Avg over subs\n",
    "    cvsi_avg = {c:None for c in cvsi_cond}\n",
    "\n",
    "    for c in cvsi_dat.keys():\n",
    "        cvsi_avg[c] = np.mean(np.asarray(cvsi_dat[c]),0)\n",
    "\n",
    "    return cvsi_dat, cvsi_avg"
   ]
  },
  {
   "cell_type": "code",
   "execution_count": null,
   "metadata": {},
   "outputs": [],
   "source": [
    "# Run all\n",
    "\n",
    "# Get cvsi for subs\n",
    "cvsi_dat, cvsi_avg = get_cvsi(subjects, moment = 'enc1')\n",
    "\n",
    "# Save as pickle\n",
    "cvsi_dat_f = open(dirs['cvsi'] + '/cvsi_enc1.pkl', 'wb')\n",
    "\n",
    "pickle.dump([cvsi_dat, cvsi_avg], cvsi_dat_f)\n",
    "cvsi_dat_f.close()"
   ]
  }
 ],
 "metadata": {
  "kernelspec": {
   "display_name": "mne",
   "language": "python",
   "name": "python3"
  },
  "language_info": {
   "codemirror_mode": {
    "name": "ipython",
    "version": 3
   },
   "file_extension": ".py",
   "mimetype": "text/x-python",
   "name": "python",
   "nbconvert_exporter": "python",
   "pygments_lexer": "ipython3",
   "version": "3.10.6"
  }
 },
 "nbformat": 4,
 "nbformat_minor": 2
}

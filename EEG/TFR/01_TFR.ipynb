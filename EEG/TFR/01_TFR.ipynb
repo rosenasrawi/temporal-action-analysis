{
 "cells": [
  {
   "cell_type": "code",
   "execution_count": null,
   "metadata": {},
   "outputs": [],
   "source": [
    "import mne\n",
    "import numpy as np\n",
    "\n",
    "import os\n",
    "os.chdir('..')\n",
    "from _parameters import *\n",
    "\n",
    "from mne.time_frequency import tfr_morlet, tfr_multitaper\n",
    "from IPython.display import clear_output"
   ]
  },
  {
   "cell_type": "code",
   "execution_count": null,
   "metadata": {},
   "outputs": [],
   "source": [
    "def get_TFR(s, moment, modal):\n",
    "\n",
    "    # Read epoch\n",
    "    epoch_fname = dirs['epoch'] + '/epoch_' + moment + '_s' + str(s) + '.fif'\n",
    "    \n",
    "    epochs = mne.read_epochs(epoch_fname, preload=True)\n",
    "\n",
    "    # Read ICA\n",
    "    ica_fname = dirs['ica'] + '/ica_' + moment + '_s' + str(s) + '.fif'\n",
    "    \n",
    "    ica = mne.preprocessing.read_ica(ica_fname)\n",
    "\n",
    "    # Apply ICA correction to the epochs\n",
    "    ica.apply(epochs)\n",
    "\n",
    "    # TFR using morlet wavelets\n",
    "    freqs = np.asarray(range(3,41))\n",
    "    ncycles = freqs*.3\n",
    "\n",
    "    # Per condition\n",
    "    for c in cond[modal]:\n",
    "        \n",
    "        tfr = tfr_multitaper(epochs[c], freqs, ncycles,\n",
    "                         use_fft=True, return_itc=False)\n",
    "        \n",
    "        # Save\n",
    "        tfr_fname = dirs['tfr'] + '/tfr_multi_' + moment + '_' + c.replace('/', '_') + '_s' + str(s) + '.h5'    \n",
    "        \n",
    "        tfr.save(tfr_fname, overwrite = True)"
   ]
  },
  {
   "cell_type": "code",
   "execution_count": null,
   "metadata": {},
   "outputs": [],
   "source": [
    "# Run all subs\n",
    "\n",
    "for s in subjects:\n",
    "\n",
    "    print('Running subject ' + str(s))\n",
    "    \n",
    "    # Visual\n",
    "    get_TFR(s, moment = 'enc1', modal = 'visual')\n",
    "    clear_output(wait = True)\n",
    "\n",
    "    # Motor\n",
    "    get_TFR(s, moment = 'enc1', modal = 'motor')\n",
    "    clear_output(wait = False)"
   ]
  },
  {
   "cell_type": "code",
   "execution_count": null,
   "metadata": {},
   "outputs": [],
   "source": [
    "# Run all subs\n",
    "\n",
    "for s in subjects:\n",
    "\n",
    "    print('Running subject ' + str(s))\n",
    "    \n",
    "    # Visual\n",
    "    get_TFR(s, moment = 'prob1', modal = 'visual')\n",
    "    clear_output(wait = True)\n",
    "\n",
    "    # Motor\n",
    "    get_TFR(s, moment = 'prob1', modal = 'motor')\n",
    "    clear_output(wait = False)"
   ]
  },
  {
   "cell_type": "code",
   "execution_count": null,
   "metadata": {},
   "outputs": [],
   "source": [
    "# Run all subs\n",
    "\n",
    "for s in subjects:\n",
    "\n",
    "    print('Running subject ' + str(s))\n",
    "    \n",
    "    # Visual\n",
    "    get_TFR(s, moment = 'prob2', modal = 'visual')\n",
    "    clear_output(wait = True)\n",
    "\n",
    "    # Motor\n",
    "    get_TFR(s, moment = 'prob2', modal = 'motor')\n",
    "    clear_output(wait = False)"
   ]
  },
  {
   "cell_type": "code",
   "execution_count": null,
   "metadata": {},
   "outputs": [],
   "source": [
    "# Run individual\n",
    "\n",
    "s = 1\n",
    "\n",
    "# Visual\n",
    "get_TFR(s, moment = 'enc1', modal = 'visual')\n",
    "clear_output(wait = True)\n",
    "\n",
    "# Motor\n",
    "get_TFR(s, moment = 'enc1', modal = 'motor')\n",
    "clear_output(wait = False)"
   ]
  }
 ],
 "metadata": {
  "kernelspec": {
   "display_name": "mne",
   "language": "python",
   "name": "python3"
  },
  "language_info": {
   "codemirror_mode": {
    "name": "ipython",
    "version": 3
   },
   "file_extension": ".py",
   "mimetype": "text/x-python",
   "name": "python",
   "nbconvert_exporter": "python",
   "pygments_lexer": "ipython3",
   "version": "3.10.6"
  }
 },
 "nbformat": 4,
 "nbformat_minor": 2
}

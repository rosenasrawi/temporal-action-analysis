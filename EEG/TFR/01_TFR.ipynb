{
 "cells": [
  {
   "cell_type": "code",
   "execution_count": null,
   "metadata": {},
   "outputs": [],
   "source": [
    "import mne\n",
    "import sys\n",
    "import numpy as np\n",
    "\n",
    "sys.path.append('..')\n",
    "\n",
    "from _parameters import *\n",
    "sys.path.remove('..')\n",
    "\n",
    "from mne.time_frequency import tfr_morlet\n"
   ]
  },
  {
   "cell_type": "code",
   "execution_count": null,
   "metadata": {},
   "outputs": [],
   "source": [
    "def get_TFR(s, moment, modal):\n",
    "\n",
    "    # Read epoch\n",
    "    epoch_fname = dirs['epoch'] + '/epoch_' + moment + '_s' + str(s) + '.fif'\n",
    "\n",
    "    epochs = mne.read_epochs(epoch_fname, preload=True)\n",
    "\n",
    "    # Select ocnditions\n",
    "    tfr = dict.fromkeys(cond[modal], None)\n",
    "\n",
    "    # TFR using morlet wavelets\n",
    "    freqs = np.asarray(range(3,41))\n",
    "    ncycles = freqs*.3\n",
    "\n",
    "    # Per condition\n",
    "    for c in cond[modal]:\n",
    "        \n",
    "        tfr[c] = tfr_morlet(epochs[c], freqs, ncycles,\n",
    "                         use_fft=True, return_itc=False)\n",
    "        \n",
    "        # Save\n",
    "        tfr_fname = dirs['tfr'] + '/tfr_' + moment + '_' + c.replace('/', '_') + '_s' + str(s) + '.h5'    \n",
    "        \n",
    "        tfr[c].save(tfr_fname, overwrite = True)\n",
    "    \n",
    "    return tfr"
   ]
  },
  {
   "cell_type": "code",
   "execution_count": null,
   "metadata": {},
   "outputs": [],
   "source": [
    "tfr_vis = get_TFR(s = 1, moment = 'enc1', modal = 'visual')"
   ]
  },
  {
   "cell_type": "code",
   "execution_count": null,
   "metadata": {},
   "outputs": [],
   "source": [
    "tfr_mot = get_TFR(s = 1, moment = 'enc1', modal = 'motor')"
   ]
  }
 ],
 "metadata": {
  "kernelspec": {
   "display_name": "mne",
   "language": "python",
   "name": "python3"
  },
  "language_info": {
   "codemirror_mode": {
    "name": "ipython",
    "version": 3
   },
   "file_extension": ".py",
   "mimetype": "text/x-python",
   "name": "python",
   "nbconvert_exporter": "python",
   "pygments_lexer": "ipython3",
   "version": "3.10.6"
  }
 },
 "nbformat": 4,
 "nbformat_minor": 2
}

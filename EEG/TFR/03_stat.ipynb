{
 "cells": [
  {
   "cell_type": "code",
   "execution_count": null,
   "metadata": {},
   "outputs": [],
   "source": [
    "from mne.stats import permutation_cluster_1samp_test\n",
    "import numpy as np\n",
    "\n",
    "import pickle\n",
    "import sys\n",
    "\n",
    "sys.path.append('..')\n",
    "\n",
    "from _parameters import *\n",
    "sys.path.remove('..')"
   ]
  },
  {
   "cell_type": "code",
   "execution_count": null,
   "metadata": {},
   "outputs": [],
   "source": [
    "# Load data\n",
    "cvsi_avg_f = open(dirs['cvsi'] + '/cvsi_enc1.pkl', 'rb')\n",
    "cvsi_dat, cvsi_avg = pickle.load(cvsi_avg_f)\n",
    "\n",
    "cvsi_avg_f.close()"
   ]
  },
  {
   "cell_type": "code",
   "execution_count": null,
   "metadata": {},
   "outputs": [],
   "source": [
    "def stat_TFR(data):\n",
    "\n",
    "    # Run cluster perm\n",
    "    t, clust, p, h0 = permutation_cluster_1samp_test(data, n_permutations=10000, out_type= 'mask')\n",
    "\n",
    "    # Create mask\n",
    "    mask = np.asarray(clust)[p<.05]\n",
    "    mask = np.kron(np.squeeze(mask), np.ones((10,10)))\n",
    "\n",
    "    return mask, p"
   ]
  },
  {
   "cell_type": "code",
   "execution_count": null,
   "metadata": {},
   "outputs": [],
   "source": [
    "# Dict with key for each cond\n",
    "stats = {c:None for c in cvsi_dat.keys()}\n",
    "\n",
    "# Run for each cond\n",
    "for c in cvsi_dat.keys():\n",
    "    \n",
    "    # Get stats\n",
    "    data = np.asarray(cvsi_dat[c])\n",
    "    mask, p = stat_TFR(data)\n",
    "\n",
    "    stat = {\n",
    "        'mask': mask,\n",
    "        'sig': p\n",
    "    }\n",
    "\n",
    "    # Add stats to dict\n",
    "    stats[c] = stat"
   ]
  },
  {
   "cell_type": "code",
   "execution_count": null,
   "metadata": {},
   "outputs": [],
   "source": [
    "# Save stats\n",
    "\n",
    "cvsi_stat_f = open(dirs['stat'] + '/stat_cvsi_enc1.pkl', 'wb')\n",
    "\n",
    "pickle.dump(stats, cvsi_stat_f)\n",
    "cvsi_stat_f.close()\n"
   ]
  }
 ],
 "metadata": {
  "kernelspec": {
   "display_name": "mne",
   "language": "python",
   "name": "python3"
  },
  "language_info": {
   "codemirror_mode": {
    "name": "ipython",
    "version": 3
   },
   "file_extension": ".py",
   "mimetype": "text/x-python",
   "name": "python",
   "nbconvert_exporter": "python",
   "pygments_lexer": "ipython3",
   "version": "3.10.6"
  }
 },
 "nbformat": 4,
 "nbformat_minor": 2
}

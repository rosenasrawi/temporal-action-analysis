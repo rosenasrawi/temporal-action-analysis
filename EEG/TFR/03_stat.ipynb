{
 "cells": [
  {
   "cell_type": "code",
   "execution_count": null,
   "metadata": {},
   "outputs": [],
   "source": [
    "from mne.stats import permutation_cluster_1samp_test\n",
    "import numpy as np\n",
    "\n",
    "import pickle\n",
    "import sys\n",
    "\n",
    "sys.path.append('..')\n",
    "\n",
    "from _parameters import *\n",
    "sys.path.remove('..')"
   ]
  },
  {
   "cell_type": "code",
   "execution_count": null,
   "metadata": {},
   "outputs": [],
   "source": [
    "# Load TFR\n",
    "cvsi_avg_f = open(dirs['cvsi'] + '/cvsi_enc1.pkl', 'rb')\n",
    "cvsi_dat, cvsi_avg = pickle.load(cvsi_avg_f)\n",
    "\n",
    "cvsi_avg_f.close()\n",
    "\n",
    "# And time-courses\n",
    "cvsi_tc_f = open(dirs['cvsi'] + '/cvsi_tc_enc1.pkl', 'rb')\n",
    "cvsi_tc = pickle.load(cvsi_tc_f)\n",
    "\n",
    "cvsi_tc_f.close()"
   ]
  },
  {
   "cell_type": "code",
   "execution_count": null,
   "metadata": {},
   "outputs": [],
   "source": [
    "def stat_TFR(data):\n",
    "\n",
    "    data = np.asarray(data)\n",
    "\n",
    "    # Run cluster perm\n",
    "    t, clust, p, h0 = permutation_cluster_1samp_test(data, n_permutations=10000, out_type= 'mask')\n",
    "\n",
    "    # Create mask\n",
    "    mask = np.asarray(clust)[p<.05]\n",
    "    mask = np.kron(np.squeeze(mask), np.ones((10,10)))\n",
    "    \n",
    "    stat = {\n",
    "        'mask': mask,\n",
    "        'sig': p\n",
    "    }\n",
    "\n",
    "    return stat"
   ]
  },
  {
   "cell_type": "code",
   "execution_count": null,
   "metadata": {},
   "outputs": [],
   "source": [
    "def stat_tc(data):\n",
    "\n",
    "    time = cvsi_tc['time']\n",
    "\n",
    "    t, clust, p, h0 = permutation_cluster_1samp_test(data, n_permutations=10000)\n",
    "\n",
    "    # Get t-index of sign clusters\n",
    "    sig_index = np.asarray(clust, dtype='object')[p<.05]\n",
    "\n",
    "    # Create mask\n",
    "    mask = []\n",
    "    for i in range(len(sig_index)):\n",
    "        mask = np.append(mask, (time[sig_index[i][0]]))\n",
    "\n",
    "    return mask"
   ]
  },
  {
   "cell_type": "code",
   "execution_count": null,
   "metadata": {},
   "outputs": [],
   "source": [
    "stats_TFR = {c:None for c in cvsi_dat.keys()}\n",
    "stats_tc = {c:None for c in cvsi_dat.keys()}\n",
    "\n",
    "# Run for each cond\n",
    "for c in cvsi_dat.keys():\n",
    "\n",
    "    tfr_dat = cvsi_dat[c]\n",
    "    tc_dat = cvsi_tc[c]\n",
    "\n",
    "    # Add stats to dict\n",
    "    stats_TFR[c] = stat_TFR(tfr_dat)\n",
    "    stats_tc[c] = stat_tc(tc_dat)"
   ]
  },
  {
   "cell_type": "code",
   "execution_count": null,
   "metadata": {},
   "outputs": [],
   "source": [
    "# Save stats\n",
    "\n",
    "stat_TFR_f = open(dirs['stat'] + '/stat_TFR_enc1.pkl', 'wb')\n",
    "stat_tc_f = open(dirs['stat'] + '/stat_tc_enc1.pkl', 'wb')\n",
    "\n",
    "pickle.dump(stats_TFR, stat_TFR_f)\n",
    "stat_TFR_f.close()\n",
    "\n",
    "pickle.dump(stats_tc, stat_tc_f)\n",
    "stat_tc_f.close()"
   ]
  }
 ],
 "metadata": {
  "kernelspec": {
   "display_name": "mne",
   "language": "python",
   "name": "python3"
  },
  "language_info": {
   "codemirror_mode": {
    "name": "ipython",
    "version": 3
   },
   "file_extension": ".py",
   "mimetype": "text/x-python",
   "name": "python",
   "nbconvert_exporter": "python",
   "pygments_lexer": "ipython3",
   "version": "3.10.6"
  }
 },
 "nbformat": 4,
 "nbformat_minor": 2
}

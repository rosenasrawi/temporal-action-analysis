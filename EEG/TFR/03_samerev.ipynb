{
 "cells": [
  {
   "cell_type": "code",
   "execution_count": null,
   "metadata": {},
   "outputs": [],
   "source": [
    "import mne\n",
    "import numpy as np\n",
    "import matplotlib.pyplot as plt\n",
    "from mne.stats import permutation_cluster_1samp_test\n",
    "\n",
    "from IPython.display import clear_output\n",
    "import copy\n",
    "\n",
    "import os\n",
    "os.chdir('..')\n",
    "from _parameters import *"
   ]
  },
  {
   "cell_type": "code",
   "execution_count": null,
   "metadata": {},
   "outputs": [],
   "source": [
    "mode = ['respL', 'respR', 'itemL', 'itemR']\n",
    "\n",
    "tfr_samerev = []\n",
    "\n",
    "for s in subjects:\n",
    "\n",
    "    print(f'Loading subject {s}')\n",
    "    cond = {'same': None, 'rvrs': None}\n",
    "\n",
    "    for c in cond.keys():\n",
    "\n",
    "        print(f'Loading condition {c}')\n",
    "        tfr = []\n",
    "        for m in mode:\n",
    "            fname = dirs['tfr'] + f'/tfr_multi_enc1_{c}_{m}_s{s}.h5'\n",
    "            tfr_file = mne.time_frequency.read_tfrs(fname)[0]\n",
    "            tfr.append(tfr_file)\n",
    "            \n",
    "        cond[c] = mne.grand_average(tfr)\n",
    "\n",
    "    tfr = copy.deepcopy(cond['same'])\n",
    "\n",
    "    tfr.data = ((cond['same'].data - cond['rvrs'].data) / (cond['same'].data + cond['rvrs'].data)) * 100\n",
    "\n",
    "    tfr_samerev.append(tfr)\n",
    "\n",
    "    clear_output()\n",
    "\n",
    "tfr_samerev_avg = mne.grand_average(tfr_samerev)"
   ]
  },
  {
   "cell_type": "code",
   "execution_count": null,
   "metadata": {},
   "outputs": [],
   "source": [
    "# multiplot over channels\n",
    "tfr_samerev_avg.plot_topo(vmin=-10, vmax=10)"
   ]
  },
  {
   "cell_type": "code",
   "execution_count": null,
   "metadata": {},
   "outputs": [],
   "source": [
    "# topography plot\n",
    "tfr_samerev_avg.plot_topomap(fmin=8, fmax=12, tmin=1.5, tmax=3, vmin=-3, vmax=3, colorbar=False)"
   ]
  },
  {
   "cell_type": "code",
   "execution_count": null,
   "metadata": {},
   "outputs": [],
   "source": [
    "# Pz TFR per subject\n",
    "\n",
    "samerev_dat = []\n",
    "\n",
    "for s in range(len(subjects)):\n",
    "    dat = tfr_samerev[s].pick('Pz').data.mean(0)\n",
    "    samerev_dat.append(dat)"
   ]
  },
  {
   "cell_type": "code",
   "execution_count": null,
   "metadata": {},
   "outputs": [],
   "source": [
    "# Run clusterstat\n",
    "\n",
    "data = np.asarray(samerev_dat)\n",
    "\n",
    "t, clust, p, h0 = permutation_cluster_1samp_test(data, n_permutations=10000, out_type= 'mask')\n",
    "\n",
    "# Create mask\n",
    "mask = np.asarray(clust)[p<.05]\n",
    "mask = np.kron(np.squeeze(mask), np.ones((10,10)))\n",
    "\n",
    "stat = {\n",
    "    'mask': mask,\n",
    "    'sig': p\n",
    "}\n"
   ]
  },
  {
   "cell_type": "code",
   "execution_count": null,
   "metadata": {},
   "outputs": [],
   "source": [
    "# Plot settings\n",
    "plt.rcdefaults()\n",
    "\n",
    "plt.rcParams['font.family'] = 'Helvetica Neue'\n",
    "plt.rcParams['svg.fonttype'] = 'none'"
   ]
  },
  {
   "cell_type": "code",
   "execution_count": null,
   "metadata": {},
   "outputs": [],
   "source": [
    "# Plot TFR\n",
    "fig, axes = plt.subplots(figsize = (10,4))\n",
    "\n",
    "extent=(-1, 4, 3, 40)\n",
    "\n",
    "im = axes.imshow(np.mean(data, 0), cmap = 'RdBu_r', extent=extent, \n",
    "                    origin=\"lower\", aspect=\"auto\", \n",
    "                    vmin = -10, vmax = 10)\n",
    "\n",
    "axes.axvline(0, color='grey', linestyle=':')\n",
    "axes.axvline(1.5, color='grey', linestyle=':')\n",
    "\n",
    "mask = stat['mask']\n",
    "\n",
    "if len(mask.shape) == 3: # multiple masks\n",
    "    for m in mask:\n",
    "        axes.contour(m, colors='black', extent=extent, linewidths=.1, corner_mask=False, antialiased=False)\n",
    "\n",
    "else:\n",
    "    axes.contour(mask, colors='black', extent=extent, linewidths=.1, corner_mask=False, antialiased=False)\n",
    "\n",
    "    cbar = plt.colorbar(im, ticks = [-10,0,10])\n",
    "    cbar.ax.tick_params(labelsize = 12)\n",
    "\n",
    "    axes.set_title('Same vs reversed (Pz)', size = 14)\n",
    "\n",
    "    axes.set_xlabel('Time after $\\mathregular{1^{st}}$ encoding display (s)', fontsize=14)\n",
    "    axes.set_ylabel('Frequency (Hz)', fontsize=14)\n",
    "    axes.tick_params(axis='both', labelsize=12)\n",
    "\n",
    "    axes.set_xlim(-0.25, 3.5)\n",
    "\n",
    "fname = dirs['plot'] + f'/TFR/Pz-same-rvrs.svg'\n",
    "fig.savefig(fname, format = 'svg', dpi = 300, bbox_inches='tight', transparent=True)\n"
   ]
  },
  {
   "cell_type": "code",
   "execution_count": null,
   "metadata": {},
   "outputs": [],
   "source": [
    "def plot_svsr(data, freq, vlim, title):\n",
    "    tmin, tmax = [0, 0.25]\n",
    "    fig, axes = plt.subplots(1, 14, figsize=(20, 4))\n",
    "\n",
    "    for i in range(14):\n",
    "        data.plot_topomap(tmin=tmin, tmax=tmax, \n",
    "                          fmin=freq[0], fmax=freq[1], \n",
    "                          vmin=vlim[0], vmax=vlim[1], \n",
    "                          colorbar=False, axes = axes[i], show=False)\n",
    "        axes[i].set_title(f'{tmin} - {tmax} s')\n",
    "        tmin+=0.25; tmax+=0.25\n",
    "\n",
    "    fig.suptitle(title)\n",
    "    plt.show()\n",
    "    \n",
    "    fname = dirs['plot'] + f'/topo/lvsr-{title}.svg'\n",
    "    fig.savefig(fname, format = 'svg', dpi = 300, bbox_inches='tight', transparent=True)\n",
    "\n",
    "plot_svsr(tfr_samerev_avg, (8,12), (-5,5), 'same-rvrs')"
   ]
  }
 ],
 "metadata": {
  "kernelspec": {
   "display_name": "mne",
   "language": "python",
   "name": "python3"
  },
  "language_info": {
   "codemirror_mode": {
    "name": "ipython",
    "version": 3
   },
   "file_extension": ".py",
   "mimetype": "text/x-python",
   "name": "python",
   "nbconvert_exporter": "python",
   "pygments_lexer": "ipython3",
   "version": "3.10.6"
  }
 },
 "nbformat": 4,
 "nbformat_minor": 2
}

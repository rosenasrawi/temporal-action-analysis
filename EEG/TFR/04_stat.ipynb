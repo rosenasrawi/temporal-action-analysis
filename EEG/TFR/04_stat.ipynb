{
 "cells": [
  {
   "cell_type": "code",
   "execution_count": null,
   "metadata": {},
   "outputs": [],
   "source": [
    "from mne.stats import permutation_cluster_1samp_test\n",
    "import numpy as np\n",
    "\n",
    "import pickle\n",
    "\n",
    "import os\n",
    "os.chdir('..')\n",
    "from _parameters import *"
   ]
  },
  {
   "cell_type": "code",
   "execution_count": null,
   "metadata": {},
   "outputs": [],
   "source": [
    "def load_tfr(filename):\n",
    "\n",
    "    cvsi_avg_f = open(dirs['cvsi'] + '/' + filename, 'rb')\n",
    "    cvsi_dat, cvsi_avg = pickle.load(cvsi_avg_f)\n",
    "    cvsi_avg_f.close()\n",
    "\n",
    "    return cvsi_dat, cvsi_avg\n",
    "\n",
    "def load_tc(filename):\n",
    "\n",
    "    cvsi_avg_f = open(dirs['cvsi'] + '/' + filename, 'rb')\n",
    "    cvsi_dat = pickle.load(cvsi_avg_f)\n",
    "    cvsi_avg_f.close()\n",
    "    \n",
    "    return cvsi_dat"
   ]
  },
  {
   "cell_type": "code",
   "execution_count": null,
   "metadata": {},
   "outputs": [],
   "source": [
    "def stat_TFR(data):\n",
    "\n",
    "    data = np.asarray(data)\n",
    "\n",
    "    # Run cluster perm\n",
    "    t, clust, p, h0 = permutation_cluster_1samp_test(data, n_permutations=10000, out_type= 'mask')\n",
    "\n",
    "    # Create mask\n",
    "    mask = np.asarray(clust)[p<.05]\n",
    "    mask = np.kron(np.squeeze(mask), np.ones((10,10)))\n",
    "    \n",
    "    stat = {\n",
    "        'mask': mask,\n",
    "        'sig': p\n",
    "    }\n",
    "\n",
    "    return stat"
   ]
  },
  {
   "cell_type": "code",
   "execution_count": null,
   "metadata": {},
   "outputs": [],
   "source": [
    "def stat_tc(data,time):\n",
    "\n",
    "    t, clust, p, h0 = permutation_cluster_1samp_test(data, n_permutations=10000)\n",
    "\n",
    "    # Get t-index of sign clusters\n",
    "    sig_index = np.asarray(clust, dtype='object')[p<.05]\n",
    "\n",
    "    # Create mask\n",
    "    mask = []\n",
    "    for i in range(len(sig_index)):\n",
    "        mask = np.append(mask, (time[sig_index[i][0]]))\n",
    "\n",
    "    return mask"
   ]
  },
  {
   "cell_type": "code",
   "execution_count": null,
   "metadata": {},
   "outputs": [],
   "source": [
    "def run_stat_TFR(filename, save = False):\n",
    "    \n",
    "        cvsi_dat = load_tfr(filename)\n",
    "    \n",
    "        stats_TFR = {c:None for c in cvsi_dat.keys()}\n",
    "    \n",
    "        # Run for each cond\n",
    "        for c in cvsi_dat.keys():\n",
    "    \n",
    "            tfr_dat = cvsi_dat[c]\n",
    "    \n",
    "            # Add stats to dict\n",
    "            stats_TFR[c] = stat_TFR(tfr_dat)\n",
    "    \n",
    "        if save:\n",
    "            stat_tfr_f = open(dirs['stat'] + '/' + filename.replace('cvsi', 'stat'), 'wb')\n",
    "            pickle.dump(stats_TFR, stat_tfr_f)\n",
    "            stat_tfr_f.close()\n",
    "\n",
    "        return stats_TFR\n",
    "\n",
    "def run_stat_tc(filename, save = False):\n",
    "    \n",
    "        cvsi_tc = load_tc(filename)\n",
    "    \n",
    "        stats_tc = {c:None for c in cvsi_tc.keys() if c != 'time'}\n",
    "        time = cvsi_tc['time']\n",
    "\n",
    "        # Run for each cond\n",
    "        for c in stats_tc.keys():\n",
    "            print('Running stats for ' + c)\n",
    "    \n",
    "            tc_dat = cvsi_tc[c]\n",
    "    \n",
    "            # Add stats to dict\n",
    "            stats_tc[c] = stat_tc(tc_dat, time)\n",
    "    \n",
    "        if save:\n",
    "            stat_tc_f = open(dirs['stat'] + '/' + filename.replace('cvsi', 'stat'), 'wb')\n",
    "            pickle.dump(stats_tc, stat_tc_f)\n",
    "            stat_tc_f.close()\n",
    "\n",
    "        return stats_tc\n"
   ]
  },
  {
   "cell_type": "code",
   "execution_count": null,
   "metadata": {},
   "outputs": [],
   "source": [
    "# Run stats\n",
    "\n",
    "stats_tc = run_stat_tc(filename = 'cvsi_tc_enc1_samerev.pkl', save=True)\n"
   ]
  },
  {
   "cell_type": "code",
   "execution_count": null,
   "metadata": {},
   "outputs": [],
   "source": [
    "# Stats behavior split\n",
    "\n",
    "cvsi_tc = load_tc('cvsi_tc_enc1_err.pkl')\n",
    "\n",
    "conds = ['mot/same', 'mot/rvrs', 'vis/same', 'vis/rvrs']\n",
    "cvsi_trade = {c:None for c in conds}\n",
    "stats_trade = {c:None for c in conds}\n",
    "\n",
    "trade = ['err_trade_low', 'err_trade_high']\n",
    "\n",
    "for c in conds:\n",
    "    t1, t2 = trade\n",
    "    cvsi_trade[c] = cvsi_tc[c+'/'+t1] - cvsi_tc[c+'/'+t2]\n",
    "\n",
    "time = cvsi_tc['time']\n",
    "\n",
    "# Run for each cond\n",
    "for c in stats_trade.keys():\n",
    "    print('Running stats for ' + c)\n",
    "\n",
    "    tc_dat = cvsi_trade[c]\n",
    "\n",
    "    # Add stats to dict\n",
    "    stats_trade[c] = stat_tc(tc_dat, time)\n"
   ]
  },
  {
   "cell_type": "code",
   "execution_count": null,
   "metadata": {},
   "outputs": [],
   "source": [
    "cvsi_trade['vis/rvrs'].shape"
   ]
  }
 ],
 "metadata": {
  "kernelspec": {
   "display_name": "mne",
   "language": "python",
   "name": "python3"
  },
  "language_info": {
   "codemirror_mode": {
    "name": "ipython",
    "version": 3
   },
   "file_extension": ".py",
   "mimetype": "text/x-python",
   "name": "python",
   "nbconvert_exporter": "python",
   "pygments_lexer": "ipython3",
   "version": "3.10.6"
  }
 },
 "nbformat": 4,
 "nbformat_minor": 2
}

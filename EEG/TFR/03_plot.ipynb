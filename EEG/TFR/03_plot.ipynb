{
 "cells": [
  {
   "cell_type": "code",
   "execution_count": null,
   "metadata": {},
   "outputs": [],
   "source": [
    "import matplotlib.pyplot as plt\n",
    "import pickle\n",
    "import sys\n",
    "\n",
    "sys.path.append('..')\n",
    "\n",
    "from _parameters import *\n",
    "sys.path.remove('..')"
   ]
  },
  {
   "cell_type": "code",
   "execution_count": null,
   "metadata": {},
   "outputs": [],
   "source": [
    "# Load cvsi\n",
    "cvsi_avg_f = open(dirs['cvsi'] + '/cvsi_enc1.pkl', 'rb')\n",
    "cvsi_dat, cvsi_avg = pickle.load(cvsi_avg_f)\n",
    "\n",
    "cvsi_avg_f.close()"
   ]
  },
  {
   "cell_type": "code",
   "execution_count": null,
   "metadata": {},
   "outputs": [],
   "source": [
    "fig, axes = plt.subplots(nrows=1, ncols=1, figsize = (8,4), sharex = True)\n",
    "extent=(-0.25, 3.5, 3, 40)\n",
    "\n",
    "#Plot\n",
    "im1 = axes.imshow(cvsi_avg['vis/rvrs'], cmap = 'RdBu_r', vmin = -10, vmax = 10, extent=extent, origin=\"lower\", aspect=\"auto\");\n",
    "\n",
    "axes.axvline(0, color='grey', linestyle=':')\n",
    "axes.axvline(0.25, color='grey', linestyle=':')\n",
    "axes.axvline(1.5, color='grey', linestyle=':')\n",
    "axes.axvline(1.75, color='grey', linestyle=':')\n",
    "\n",
    "plt.rcParams['axes.labelsize']  = 23\n",
    "plt.rcParams['xtick.labelsize'] = 12\n",
    "plt.rcParams['ytick.labelsize'] = 12\n",
    "plt.rcParams['svg.fonttype'] = 'none'\n",
    "plt.rcParams['font.family'] ='Helvetica Neue'"
   ]
  }
 ],
 "metadata": {
  "kernelspec": {
   "display_name": "mne",
   "language": "python",
   "name": "python3"
  },
  "language_info": {
   "codemirror_mode": {
    "name": "ipython",
    "version": 3
   },
   "file_extension": ".py",
   "mimetype": "text/x-python",
   "name": "python",
   "nbconvert_exporter": "python",
   "pygments_lexer": "ipython3",
   "version": "3.10.6"
  }
 },
 "nbformat": 4,
 "nbformat_minor": 2
}

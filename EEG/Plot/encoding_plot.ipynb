{
 "cells": [
  {
   "cell_type": "code",
   "execution_count": null,
   "metadata": {},
   "outputs": [],
   "source": [
    "import matplotlib.pyplot as plt\n",
    "import pickle\n",
    "import numpy as np\n",
    "import scipy\n",
    "\n",
    "import sys, os\n",
    "\n",
    "os.chdir(sys.path[0])\n",
    "os.chdir('..')\n",
    "from _parameters import *"
   ]
  },
  {
   "cell_type": "code",
   "execution_count": null,
   "metadata": {},
   "outputs": [],
   "source": [
    "# Load TFR\n",
    "cvsi_avg_f = open(dirs['cvsi'] + '/cvsi_enc1.pkl', 'rb')\n",
    "cvsi_dat, cvsi_avg = pickle.load(cvsi_avg_f)\n",
    "\n",
    "cvsi_avg_f.close()\n",
    "\n",
    "# And time-courses\n",
    "cvsi_tc_f = open(dirs['cvsi'] + '/cvsi_tc_enc1.pkl', 'rb')\n",
    "cvsi_tc = pickle.load(cvsi_tc_f)\n",
    "\n",
    "cvsi_tc_f.close()"
   ]
  },
  {
   "cell_type": "code",
   "execution_count": null,
   "metadata": {},
   "outputs": [],
   "source": [
    "# Load stats\n",
    "\n",
    "stat_TFR_f = open(dirs['stat'] + '/stat_TFR_enc1.pkl', 'rb')\n",
    "stat_tc_f = open(dirs['stat'] + '/stat_tc_enc1.pkl', 'rb')\n",
    "\n",
    "stat_TFR = pickle.load(stat_TFR_f)\n",
    "stat_TFR_f.close()\n",
    "\n",
    "stat_tc = pickle.load(stat_tc_f)\n",
    "stat_tc_f.close()"
   ]
  },
  {
   "cell_type": "code",
   "execution_count": null,
   "metadata": {},
   "outputs": [],
   "source": [
    "# Plot settings\n",
    "plt.rcdefaults()\n",
    "plt.rcParams['font.family'] = 'Helvetica Neue'"
   ]
  },
  {
   "cell_type": "code",
   "execution_count": null,
   "metadata": {},
   "outputs": [],
   "source": [
    "def plot_tfr(cond: str, vlim, title, save = False):\n",
    "\n",
    "    vmin, vmax = vlim\n",
    "\n",
    "    fig, axes = plt.subplots(figsize = (8,4))\n",
    "\n",
    "    extent=(-1, 4, 3, 40)\n",
    "\n",
    "    im = axes.imshow(cvsi_avg[cond], cmap = 'RdBu_r', extent=extent, \n",
    "                     origin=\"lower\", aspect=\"auto\", \n",
    "                     vmin = vmin, vmax = vmax)\n",
    "    \n",
    "    axes.axvline(0, color='grey', linestyle=':')\n",
    "    axes.axvline(1.5, color='grey', linestyle=':')\n",
    "\n",
    "    mask = stat_TFR[cond]['mask']\n",
    "\n",
    "    if len(mask.shape) == 3: # multiple masks\n",
    "        for m in mask:\n",
    "            axes.contour(m, colors='black', extent=extent, linewidths=.1, corner_mask=False, antialiased=False)\n",
    "\n",
    "    else:\n",
    "        axes.contour(mask, colors='black', extent=extent, linewidths=.1, corner_mask=False, antialiased=False)\n",
    "\n",
    "    cbar = plt.colorbar(im, ticks = [vmin,0,vmax])\n",
    "    cbar.ax.tick_params(labelsize = 12)\n",
    "\n",
    "    axes.set_title(title, size = 14)\n",
    "\n",
    "    axes.set_xlabel('Time after $\\mathregular{1^{st}}$ encoding display (s)', fontsize=14)\n",
    "    axes.set_ylabel('Frequency (Hz)', fontsize=14)\n",
    "    axes.tick_params(axis='both', labelsize=12)\n",
    "\n",
    "    axes.set_xlim(-0.25, 3.5)\n",
    "    \n",
    "    if save: \n",
    "        fig_fname = dirs['plot'] + '/TFR/' + 'TFR_' + cond.replace('/', '_') + '.svg'\n",
    "        fig.savefig(fig_fname, format = 'svg', dpi = 300, bbox_inches='tight')"
   ]
  },
  {
   "cell_type": "code",
   "execution_count": null,
   "metadata": {},
   "outputs": [],
   "source": [
    "plot_tfr(cond = 'vis', vlim = [-15,15], title = 'Visual', save = False)\n",
    "plot_tfr(cond = 'mot', vlim = [-20,20], title = 'Motor', save = False)"
   ]
  },
  {
   "cell_type": "code",
   "execution_count": null,
   "metadata": {},
   "outputs": [],
   "source": [
    "def error_tc(axes, data, time, color):\n",
    "\n",
    "    avg = np.mean(data, axis=0)\n",
    "\n",
    "    sd = np.std(data, axis=0)\n",
    "    se = sd/np.sqrt(len(data))\n",
    "\n",
    "    axes.fill_between(time, avg-se, avg+se, alpha = 0.2, facecolor = color)\n",
    "    axes.plot(time, avg, color = color, linestyle = 'solid')\n"
   ]
  },
  {
   "cell_type": "code",
   "execution_count": null,
   "metadata": {},
   "outputs": [],
   "source": [
    "def plot_tc(cond: list, cols: list, labels: list, title:str, save = False):\n",
    "\n",
    "    time = cvsi_tc['time']\n",
    "    stat_loc = [-14, -13]\n",
    "\n",
    "    fig, ax = plt.subplots(nrows=1, ncols=1, figsize = (8,4), sharex = True)\n",
    "    \n",
    "    for i, c in enumerate(cond):\n",
    "        mask = stat_tc[c]\n",
    "\n",
    "        error_tc(ax, cvsi_tc[c], time, color = cols[i])\n",
    "        ax.plot(mask, stat_loc[i] * np.ones(len(mask)), '.', \n",
    "                  color = cols[i], label = labels[i])\n",
    "\n",
    "    ax.axhline(0, color='grey', linestyle=':')\n",
    "    ax.axvline(1.5, color='grey', linestyle=':')\n",
    "    ax.axvline(0, color='grey', linestyle=':')\n",
    "\n",
    "    ax.set_xlim(-0.25, 3.5)\n",
    "    ax.set_ylim(-15, 15)\n",
    "\n",
    "    ax.set_title(title, size = 14)\n",
    "\n",
    "    ax.set_ylabel('Contra vs ipsi (%)', fontsize=14)\n",
    "    ax.set_xlabel('Time (seconds)', fontsize=14)\n",
    "    ax.tick_params(axis='both', labelsize=12)\n",
    "\n",
    "    # legend\n",
    "    ax.text(0.2, 8, labels[0], color = cols[0], fontsize = 12)\n",
    "    ax.text(0.2, 6, labels[1], color = cols[1], fontsize = 12)\n",
    "\n",
    "    if save:\n",
    "        fig_fname = dirs['plot'] + '/TC/' + 'TC_enc_' + cond[0].split('/')[0] + '.svg'\n",
    "        fig.savefig(fig_fname, format = 'svg', dpi = 300, bbox_inches='tight')\n"
   ]
  },
  {
   "cell_type": "code",
   "execution_count": null,
   "metadata": {},
   "outputs": [],
   "source": [
    "colors = ['#96bfe6', '#ff7340']\n",
    "labels = ['Visual', 'Motor']\n",
    "\n",
    "plot_tc(cond = ['vis','mot'], \n",
    "        cols = colors, labels = labels,\n",
    "        title = 'Visual and motor', save = True)"
   ]
  },
  {
   "cell_type": "code",
   "execution_count": null,
   "metadata": {},
   "outputs": [],
   "source": [
    "colors = ['#96bfe6', '#ff7340']\n",
    "labels = ['Same order', 'Reversed order']\n",
    "\n",
    "plot_tc(cond = ['vis/same', 'vis/rvrs'], \n",
    "        cols = colors, labels = labels,\n",
    "        title = 'Visual encoding (8-12 Hz)', save = True)\n",
    "\n",
    "plot_tc(cond = ['mot/same', 'mot/rvrs'], \n",
    "        cols = colors, labels = labels,\n",
    "        title = 'Action encoding (13-30 Hz)', save = True)\n"
   ]
  }
 ],
 "metadata": {
  "kernelspec": {
   "display_name": "mne",
   "language": "python",
   "name": "python3"
  },
  "language_info": {
   "codemirror_mode": {
    "name": "ipython",
    "version": 3
   },
   "file_extension": ".py",
   "mimetype": "text/x-python",
   "name": "python",
   "nbconvert_exporter": "python",
   "pygments_lexer": "ipython3",
   "version": "3.10.6"
  }
 },
 "nbformat": 4,
 "nbformat_minor": 2
}

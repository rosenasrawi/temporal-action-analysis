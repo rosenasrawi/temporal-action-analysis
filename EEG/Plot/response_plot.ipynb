{
 "cells": [
  {
   "cell_type": "code",
   "execution_count": null,
   "metadata": {},
   "outputs": [],
   "source": [
    "import matplotlib.pyplot as plt\n",
    "import pickle\n",
    "import numpy as np\n",
    "import scipy\n",
    "\n",
    "import sys, os\n",
    "\n",
    "os.chdir(sys.path[0])\n",
    "os.chdir('..')\n",
    "from _parameters import *"
   ]
  },
  {
   "cell_type": "code",
   "execution_count": null,
   "metadata": {},
   "outputs": [],
   "source": [
    "def load_cvsi(moment):\n",
    "    cvsi_file = open(dirs['cvsi'] + f'/cvsi_{moment}.pkl', 'rb')\n",
    "    tc_f = open(dirs['cvsi'] + f'/cvsi_tc_{moment}.pkl', 'rb')\n",
    "\n",
    "    dat, avg = pickle.load(cvsi_file)\n",
    "    tc = pickle.load(tc_f)\n",
    "\n",
    "    return dat, avg, tc"
   ]
  },
  {
   "cell_type": "code",
   "execution_count": null,
   "metadata": {},
   "outputs": [],
   "source": [
    "# Load data\n",
    "resp1_dat, resp1_avg, resp1_tc = load_cvsi('resp1')\n",
    "prob2_dat, prob2_avg, prob2_tc = load_cvsi('prob2')\n"
   ]
  },
  {
   "cell_type": "code",
   "execution_count": null,
   "metadata": {},
   "outputs": [],
   "source": [
    "# Plot settings\n",
    "plt.rcdefaults()\n",
    "plt.rcParams['font.family'] = 'Helvetica Neue'\n",
    "plt.rcParams['svg.fonttype'] = 'none'"
   ]
  },
  {
   "cell_type": "code",
   "execution_count": null,
   "metadata": {},
   "outputs": [],
   "source": [
    "def error_tc(axes, data, time, color):\n",
    "\n",
    "    avg = np.mean(data, axis=0)\n",
    "\n",
    "    sd = np.std(data, axis=0)\n",
    "    se = sd/np.sqrt(len(data))\n",
    "\n",
    "    axes.fill_between(time, avg-se, avg+se, alpha = 0.2, facecolor = color)\n",
    "    axes.plot(time, avg, color = color, linestyle = 'solid')\n"
   ]
  },
  {
   "cell_type": "code",
   "execution_count": null,
   "metadata": {},
   "outputs": [],
   "source": [
    "# Time-frequency\n",
    "\n",
    "def plot_tfr(data, vlim, extent, title):\n",
    "\n",
    "    vmin, vmax = vlim\n",
    "\n",
    "    fig, axes = plt.subplots(figsize = (8,4))\n",
    "\n",
    "    # extent=(-3, 3, 3, 40)\n",
    "\n",
    "    im = axes.imshow(data, cmap = 'RdBu_r', extent=extent, \n",
    "                     origin=\"lower\", aspect=\"auto\", \n",
    "                     vmin = vmin, vmax = vmax)\n",
    "    \n",
    "    axes.axvline(0, color='grey', linestyle=':')\n",
    "\n",
    "    cbar = plt.colorbar(im, ticks = [vmin,0,vmax])\n",
    "    cbar.ax.tick_params(labelsize = 12)\n",
    "\n",
    "    axes.set_title(title, size = 14)\n",
    "\n",
    "    axes.set_xlabel('Time (s)', fontsize=14)\n",
    "    axes.set_ylabel('Frequency (Hz)', fontsize=14)\n",
    "    axes.tick_params(axis='both', labelsize=12)\n",
    "\n",
    "    axes.set_xlim(-1, 2)  \n",
    "\n",
    "\n",
    "plot_tfr(resp1_avg['mot'], (-30, 30), (-1, 3, 3, 40), 'Response 1')\n",
    "plot_tfr(prob2_avg['mot'], (-30, 30), (-3, 3, 3, 40), 'Probe 2')\n",
    "    "
   ]
  },
  {
   "cell_type": "code",
   "execution_count": null,
   "metadata": {},
   "outputs": [],
   "source": [
    "# Motor\n",
    "\n",
    "epoch = ['Response (1)', 'Probe (2)']\n",
    "fig, (ax1, ax2) = plt.subplots(1, 2, figsize=(12, 4))\n",
    "\n",
    "error_tc(ax1, resp1_tc['mot'], resp1_tc['time'], color = palette['grey'])\n",
    "error_tc(ax2, prob2_tc['mot'], prob2_tc['time'], color = palette['grey'])\n",
    "\n",
    "for i, ax in enumerate([ax1, ax2]):\n",
    "    ax.axhline(0, color='grey', linestyle=':')\n",
    "    ax.axvline(0, color='grey', linestyle=':')\n",
    "\n",
    "    ax.set_ylim(-20, 30)\n",
    "    ax.set_xlim(-1, 2)  \n",
    "\n",
    "    ax.set_title(epoch[i], size = 14)\n",
    "\n",
    "    ax.set_xlabel('Time (seconds)', fontsize=14)\n",
    "    ax.tick_params(axis='both', labelsize=12)\n",
    "\n",
    "ax1.set_ylabel('Contra vs ipsi (%)', fontsize=14)\n",
    "ax2.set_ylabel('')\n",
    "ax2.set_yticks([])\n",
    "\n",
    "fig.suptitle('Motor selection (13-30Hz)', fontsize=14)\n",
    "\n",
    "fig_fname = dirs['plot'] + '/TFR/' + 'TFR_response.svg'\n",
    "fig.savefig(fig_fname, format = 'svg', dpi = 300, bbox_inches='tight')"
   ]
  },
  {
   "cell_type": "code",
   "execution_count": null,
   "metadata": {},
   "outputs": [],
   "source": [
    "# Motor - overlayed\n",
    "\n",
    "epoch = ['Response (1)', 'Probe (2)']\n",
    "fig, ax = plt.subplots(figsize=(6, 4))\n",
    "\n",
    "error_tc(ax, resp1_tc['mot'], resp1_tc['time'], color = palette['blue'])\n",
    "error_tc(ax, prob2_tc['mot']*-1, prob2_tc['time'], color = palette['orange'])\n",
    "\n",
    "ax.axhline(0, color='grey', linestyle=':')\n",
    "ax.axvline(0, color='grey', linestyle=':')\n",
    "\n",
    "ax.set_ylim(-30, 30)\n",
    "ax.set_xlim(-1, 2)  \n",
    "\n",
    "ax.set_title('Motor selection (13-30Hz)', size = 14)\n",
    "\n",
    "ax.set_xlabel('Time (seconds)', fontsize=14)\n",
    "ax.set_ylabel('Contra vs ipsi (%)', fontsize=14)\n",
    "ax.tick_params(axis='both', labelsize=12)\n",
    "\n",
    "ax.text(0.75, -15, 'First response', color = palette['blue'], fontsize = 14)\n",
    "ax.text(0.75, -20, 'Second response', color= palette['orange'], fontsize = 14)\n"
   ]
  },
  {
   "cell_type": "code",
   "execution_count": null,
   "metadata": {},
   "outputs": [],
   "source": [
    "# Motor - difference\n",
    "\n",
    "time_sel = (prob2_tc['time'] >= -1) & (prob2_tc['time'] <= 3)\n",
    "first_second = prob2_tc['mot'][:, time_sel]\n",
    "first_second = first_second*-1 - resp1_tc['mot']\n",
    "\n",
    "epoch = ['Response (1)', 'Probe (2)']\n",
    "fig, ax = plt.subplots(figsize=(6, 4))\n",
    "\n",
    "error_tc(ax, first_second, resp1_tc['time'], color = palette['grey'])\n",
    "\n",
    "ax.axhline(0, color='grey', linestyle=':')\n",
    "ax.axvline(0, color='grey', linestyle=':')\n",
    "\n",
    "ax.set_ylim(-30, 30)\n",
    "ax.set_xlim(-1, 2)  \n",
    "\n",
    "ax.set_title('Motor selection (13-30Hz)', size = 14)\n",
    "\n",
    "ax.set_xlabel('Time (seconds)', fontsize=14)\n",
    "ax.set_ylabel('Contra vs ipsi (%)', fontsize=14)\n",
    "ax.tick_params(axis='both', labelsize=12)\n",
    "\n",
    "ax.text(0.75, -10, 'First - second', color = palette['grey'], fontsize = 14)\n"
   ]
  }
 ],
 "metadata": {
  "kernelspec": {
   "display_name": "mne",
   "language": "python",
   "name": "python3"
  },
  "language_info": {
   "codemirror_mode": {
    "name": "ipython",
    "version": 3
   },
   "file_extension": ".py",
   "mimetype": "text/x-python",
   "name": "python",
   "nbconvert_exporter": "python",
   "pygments_lexer": "ipython3",
   "version": "3.10.6"
  }
 },
 "nbformat": 4,
 "nbformat_minor": 2
}

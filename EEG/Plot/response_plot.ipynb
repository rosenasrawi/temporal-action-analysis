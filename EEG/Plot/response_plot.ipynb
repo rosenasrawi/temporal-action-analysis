{
 "cells": [
  {
   "cell_type": "code",
   "execution_count": null,
   "metadata": {},
   "outputs": [],
   "source": [
    "import matplotlib.pyplot as plt\n",
    "import pickle\n",
    "import numpy as np\n",
    "import scipy\n",
    "\n",
    "import sys, os\n",
    "\n",
    "os.chdir(sys.path[0])\n",
    "os.chdir('..')\n",
    "from _parameters import *"
   ]
  },
  {
   "cell_type": "code",
   "execution_count": null,
   "metadata": {},
   "outputs": [],
   "source": [
    "# Locked resp (1)\n",
    "cvsi_avg_f = open(dirs['cvsi'] + '/cvsi_resp1.pkl', 'rb')\n",
    "cvsi_dat, cvsi_avg = pickle.load(cvsi_avg_f)\n",
    "\n",
    "cvsi_avg_f.close()\n",
    "\n",
    "cvsi_tc_f = open(dirs['cvsi'] + '/cvsi_tc_resp1.pkl', 'rb')\n",
    "cvsi_tc = pickle.load(cvsi_tc_f)\n",
    "\n",
    "cvsi_tc_f.close()"
   ]
  },
  {
   "cell_type": "code",
   "execution_count": null,
   "metadata": {},
   "outputs": [],
   "source": [
    "# Plot settings\n",
    "plt.rcdefaults()\n",
    "plt.rcParams['font.family'] = 'Helvetica Neue'"
   ]
  },
  {
   "cell_type": "code",
   "execution_count": null,
   "metadata": {},
   "outputs": [],
   "source": [
    "def error_tc(axes, data, time, color):\n",
    "\n",
    "    avg = np.mean(data, axis=0)\n",
    "\n",
    "    sd = np.std(data, axis=0)\n",
    "    se = sd/np.sqrt(len(data))\n",
    "\n",
    "    axes.fill_between(time, avg-se, avg+se, alpha = 0.2, facecolor = color)\n",
    "    axes.plot(time, avg, color = color, linestyle = 'solid')\n"
   ]
  },
  {
   "cell_type": "code",
   "execution_count": null,
   "metadata": {},
   "outputs": [],
   "source": [
    "def plot_tc(cond: list, cols: list, labels: list, title:str, name:str, save=False):\n",
    "\n",
    "    time = cvsi_tc['time']\n",
    "\n",
    "    fig, ax = plt.subplots(nrows=1, ncols=1, figsize = (6,4), sharex = True)\n",
    "    \n",
    "    for i, c in enumerate(cond):\n",
    "        error_tc(ax, cvsi_tc[c], time, color = cols[i])\n",
    "\n",
    "    ax.axhline(0, color='grey', linestyle=':')\n",
    "    ax.axvline(0, color='grey', linestyle=':')\n",
    "\n",
    "    ax.set_xlim(-1, 2)\n",
    "    ax.set_ylim(-30, 30)\n",
    "\n",
    "    ax.set_title(title, size = 14)\n",
    "\n",
    "    ax.set_ylabel('Contra vs ipsi (%)', fontsize=14)\n",
    "    ax.set_xlabel('Time (seconds)', fontsize=14)\n",
    "    ax.tick_params(axis='both', labelsize=12)\n",
    "\n",
    "    # legend\n",
    "    ax.text(0.5, -16, 'Visual', color = cols[0], fontsize = 12)\n",
    "    ax.text(0.5, -20, 'Motor', color = cols[1], fontsize = 12)\n",
    "    \n",
    "    if save:\n",
    "        fig_fname = dirs['plot'] + '/TC/' + name + cond[0].split('/')[0] + '.svg'\n",
    "        fig.savefig(fig_fname, format = 'svg', dpi = 300, bbox_inches='tight')\n"
   ]
  },
  {
   "cell_type": "markdown",
   "metadata": {},
   "source": []
  },
  {
   "cell_type": "code",
   "execution_count": null,
   "metadata": {},
   "outputs": [],
   "source": [
    "# Locked probe (1)\n",
    "\n",
    "colors = ['#96bfe6', '#ff7340']\n",
    "labels = ['Visual', 'Motor']\n",
    "name = 'TC_probe1_'\n",
    "\n",
    "plot_tc(cond = ['vis', 'mot'], \n",
    "           cols = colors, labels = labels,\n",
    "           title = 'Visual/motor selection (resp 1)',\n",
    "           name = 'TC_probe1_', save = False)"
   ]
  },
  {
   "cell_type": "code",
   "execution_count": null,
   "metadata": {},
   "outputs": [],
   "source": [
    "# Locked resp (2)\n",
    "cvsi_avg_f = open(dirs['cvsi'] + '/cvsi_resp2.pkl', 'rb')\n",
    "cvsi_dat, cvsi_avg = pickle.load(cvsi_avg_f)\n",
    "\n",
    "cvsi_avg_f.close()\n",
    "\n",
    "cvsi_tc_f = open(dirs['cvsi'] + '/cvsi_tc_resp2.pkl', 'rb')\n",
    "cvsi_tc = pickle.load(cvsi_tc_f)\n",
    "\n",
    "cvsi_tc_f.close()"
   ]
  },
  {
   "cell_type": "code",
   "execution_count": null,
   "metadata": {},
   "outputs": [],
   "source": [
    "plot_tc(cond = ['vis', 'mot'], \n",
    "           cols = colors, labels = labels,\n",
    "           title = 'Visual/motor selection (resp 2)',\n",
    "           name = 'TC_probe1_', save = False)"
   ]
  }
 ],
 "metadata": {
  "kernelspec": {
   "display_name": "mne",
   "language": "python",
   "name": "python3"
  },
  "language_info": {
   "codemirror_mode": {
    "name": "ipython",
    "version": 3
   },
   "file_extension": ".py",
   "mimetype": "text/x-python",
   "name": "python",
   "nbconvert_exporter": "python",
   "pygments_lexer": "ipython3",
   "version": "3.10.6"
  }
 },
 "nbformat": 4,
 "nbformat_minor": 2
}

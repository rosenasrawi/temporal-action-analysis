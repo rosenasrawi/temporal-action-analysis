{
 "cells": [
  {
   "cell_type": "code",
   "execution_count": null,
   "metadata": {},
   "outputs": [],
   "source": [
    "import mne\n",
    "from IPython.display import clear_output\n",
    "import copy\n",
    "\n",
    "import matplotlib.pyplot as plt\n",
    "\n",
    "import os\n",
    "os.chdir('..')\n",
    "from _parameters import *"
   ]
  },
  {
   "cell_type": "code",
   "execution_count": null,
   "metadata": {},
   "outputs": [],
   "source": [
    "# Left versus right\n",
    "\n",
    "def get_lvsr(mode):\n",
    "\n",
    "    cond = ['same', 'rvrs']\n",
    "    l, r = mode\n",
    "\n",
    "    same_all, rvrs_all = [], []\n",
    "\n",
    "    for s in subjects:\n",
    "        \n",
    "        tfr = {f'same-{l}': None, f'same-{r}': None, f'rvrs-{l}': None, f'rvrs-{r}': None}\n",
    "    \n",
    "        for c in cond:\n",
    "            for m in mode:\n",
    "                fname = dirs['tfr'] + f'/tfr_multi_enc1_{c}_{m}_s{s}.h5'\n",
    "                tfr[f'{c}-{m}'] = mne.time_frequency.read_tfrs(fname)[0]\n",
    "\n",
    "        lc, rc = f'same-{l}', f'same-{r}'\n",
    "        same = copy.deepcopy(tfr[lc])\n",
    "        same.data = ((tfr[lc].data - tfr[rc].data) / (tfr[lc].data + tfr[rc].data)) * 100\n",
    "        same_all.append(same)\n",
    "\n",
    "        lc, rc = f'rvrs-{l}', f'rvrs-{r}'\n",
    "        rvrs = copy.deepcopy(tfr[lc])\n",
    "        rvrs.data = ((tfr[lc].data - tfr[rc].data) / (tfr[lc].data + tfr[rc].data)) * 100\n",
    "        rvrs_all.append(rvrs)\n",
    "\n",
    "        clear_output()\n",
    "\n",
    "    same_avg = mne.grand_average(same_all)\n",
    "    rvrs_avg = mne.grand_average(rvrs_all)\n",
    "\n",
    "    return same_avg, rvrs_avg"
   ]
  },
  {
   "cell_type": "code",
   "execution_count": null,
   "metadata": {},
   "outputs": [],
   "source": [
    "vis_same_avg, vis_rvrs_avg = get_lvsr(mode= ['itemL', 'itemR'])\n",
    "mot_same_avg, mot_rvrs_avg = get_lvsr(mode= ['respL', 'respR'])"
   ]
  },
  {
   "cell_type": "code",
   "execution_count": null,
   "metadata": {},
   "outputs": [],
   "source": [
    "def plot_lvsr(data, freq, vlim, title):\n",
    "    tmin, tmax = [0, 0.25]\n",
    "    fig, axes = plt.subplots(1, 14, figsize=(20, 4))\n",
    "\n",
    "    for i in range(14):\n",
    "        data.plot_topomap(tmin=tmin, tmax=tmax, \n",
    "                          fmin=freq[0], fmax=freq[1], \n",
    "                          vmin=vlim[0], vmax=vlim[1], \n",
    "                          colorbar=False, axes = axes[i], show=False)\n",
    "        axes[i].set_title(f'{tmin} - {tmax} s')\n",
    "        tmin+=0.25; tmax+=0.25\n",
    "\n",
    "    fig.suptitle(title)\n",
    "    plt.show()\n",
    "    \n",
    "    fname = dirs['plot'] + f'/topo/lvsr-{title}.svg'\n",
    "    fig.savefig(fname, format = 'svg', dpi = 300, bbox_inches='tight')\n",
    "\n",
    "plot_lvsr(vis_same_avg, (8,12), (-7,7), 'visual-same')\n",
    "plot_lvsr(vis_rvrs_avg, (8,12), (-7,7), 'visual-reverse')\n",
    "\n",
    "plot_lvsr(mot_same_avg, (13,30), (-7,7), 'motor-same')\n",
    "plot_lvsr(mot_rvrs_avg, (13,30), (-7,7), 'motor-reverse')"
   ]
  }
 ],
 "metadata": {
  "kernelspec": {
   "display_name": "mne",
   "language": "python",
   "name": "python3"
  },
  "language_info": {
   "codemirror_mode": {
    "name": "ipython",
    "version": 3
   },
   "file_extension": ".py",
   "mimetype": "text/x-python",
   "name": "python",
   "nbconvert_exporter": "python",
   "pygments_lexer": "ipython3",
   "version": "3.10.6"
  }
 },
 "nbformat": 4,
 "nbformat_minor": 2
}

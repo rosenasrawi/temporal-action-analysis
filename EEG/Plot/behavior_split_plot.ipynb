{
 "cells": [
  {
   "cell_type": "code",
   "execution_count": null,
   "metadata": {},
   "outputs": [],
   "source": [
    "import matplotlib.pyplot as plt\n",
    "import pickle\n",
    "import numpy as np\n",
    "import scipy\n",
    "\n",
    "import sys, os\n",
    "\n",
    "os.chdir(sys.path[0])\n",
    "os.chdir('..')\n",
    "from _parameters import *"
   ]
  },
  {
   "cell_type": "code",
   "execution_count": null,
   "metadata": {},
   "outputs": [],
   "source": [
    "def load_cvsi(moment, condition):\n",
    "    cvsi_fname = open(dirs['cvsi'] + f'/cvsi_{moment}_{condition}.pkl', 'rb')\n",
    "    tc_fname = open(dirs['cvsi'] + f'/cvsi_tc_{moment}_{condition}.pkl', 'rb')\n",
    "\n",
    "    dat, avg = pickle.load(cvsi_fname)\n",
    "    tc = pickle.load(tc_fname)\n",
    "\n",
    "    return dat, avg, tc"
   ]
  },
  {
   "cell_type": "code",
   "execution_count": null,
   "metadata": {},
   "outputs": [],
   "source": [
    "# Load data\n",
    "DT_dat, DT_avg, DT_tc = load_cvsi('enc1', 'DT')\n",
    "err_dat, err_avg, err_tc = load_cvsi('enc1', 'err')"
   ]
  },
  {
   "cell_type": "code",
   "execution_count": null,
   "metadata": {},
   "outputs": [],
   "source": [
    "# Plot settings\n",
    "plt.rcdefaults()\n",
    "plt.rcParams['font.family'] = 'Helvetica Neue'"
   ]
  },
  {
   "cell_type": "code",
   "execution_count": null,
   "metadata": {},
   "outputs": [],
   "source": [
    "def error_tc(axes, data, time, color):\n",
    "\n",
    "    avg = np.mean(data, axis=0)\n",
    "\n",
    "    sd = np.std(data, axis=0)\n",
    "    se = sd/np.sqrt(len(data))\n",
    "\n",
    "    axes.fill_between(time, avg-se, avg+se, alpha = 0.2, facecolor = color)\n",
    "    axes.plot(time, avg, color = color, linestyle = 'solid')\n"
   ]
  },
  {
   "cell_type": "code",
   "execution_count": null,
   "metadata": {},
   "outputs": [],
   "source": [
    "def plot_tc(data, modal, behavior, ylim):\n",
    "\n",
    "    epoch = ['Same order', 'Reversed order']\n",
    "\n",
    "    fig, (ax1, ax2) = plt.subplots(1, 2, figsize=(12, 4))\n",
    "\n",
    "    error_tc(ax1, data[f'{modal}/same/{behavior}_trade_low'], data['time'], color = palette['blue'])\n",
    "    error_tc(ax1, data[f'{modal}/same/{behavior}_trade_high'], data['time'], color = palette['orange'])\n",
    "\n",
    "    error_tc(ax2, data[f'{modal}/rvrs/{behavior}_trade_low'], data['time'], color = palette['blue'])\n",
    "    error_tc(ax2, data[f'{modal}/rvrs/{behavior}_trade_high'], data['time'], color = palette['orange'])\n",
    "\n",
    "    for i, ax in enumerate([ax1, ax2]):\n",
    "        ax.axhline(0, color='grey', linestyle=':')\n",
    "        ax.axvline(0, color='grey', linestyle=':')\n",
    "        ax.axvline(1.5, color='grey', linestyle=':')\n",
    "\n",
    "        ax.set_ylim(ylim[0], ylim[1])\n",
    "        ax.set_xlim(-0.25, 3.5)\n",
    "        \n",
    "        ax.set_title(epoch[i], size = 14)\n",
    "\n",
    "        ax.set_xlabel('Time (seconds)', fontsize=14)\n",
    "        ax.tick_params(axis='both', labelsize=12)\n",
    "\n",
    "    ax1.set_ylabel('Contra vs ipsi (%)', fontsize=14)\n",
    "    ax2.set_ylabel('')\n",
    "    ax2.set_yticks([])\n",
    "\n",
    "    title = ''\n",
    "    if modal == 'mot':\n",
    "        title += 'Motor selection'\n",
    "    elif modal == 'vis':\n",
    "        title += 'Visual selection'\n",
    "    \n",
    "    if behavior == 'DT':\n",
    "        title += ' - DT trade-off'    \n",
    "    elif behavior == 'err':\n",
    "        title += ' - error trade-off'    \n",
    "\n",
    "    fig.suptitle(title, fontsize=14)\n",
    "    "
   ]
  },
  {
   "cell_type": "code",
   "execution_count": null,
   "metadata": {},
   "outputs": [],
   "source": [
    "plot_tc(DT_tc, 'mot', 'DT', [-15, 15])\n",
    "plot_tc(DT_tc, 'vis', 'DT', [-10, 10])"
   ]
  },
  {
   "cell_type": "code",
   "execution_count": null,
   "metadata": {},
   "outputs": [],
   "source": [
    "plot_tc(err_tc, 'mot', 'err', [-15, 15])\n",
    "plot_tc(err_tc, 'vis', 'err', [-10, 10])"
   ]
  }
 ],
 "metadata": {
  "kernelspec": {
   "display_name": "mne",
   "language": "python",
   "name": "python3"
  },
  "language_info": {
   "codemirror_mode": {
    "name": "ipython",
    "version": 3
   },
   "file_extension": ".py",
   "mimetype": "text/x-python",
   "name": "python",
   "nbconvert_exporter": "python",
   "pygments_lexer": "ipython3",
   "version": "3.10.6"
  }
 },
 "nbformat": 4,
 "nbformat_minor": 2
}

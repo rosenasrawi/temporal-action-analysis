{
 "cells": [
  {
   "cell_type": "code",
   "execution_count": null,
   "metadata": {},
   "outputs": [],
   "source": [
    "import mne\n",
    "import sys\n",
    "\n",
    "import numpy as np\n",
    "from scipy import stats\n",
    "import sails\n",
    "\n",
    "sys.path.append('..')\n",
    "\n",
    "from _parameters import *\n",
    "sys.path.remove('..')\n",
    "\n",
    "from mne.preprocessing import compute_current_source_density\n",
    "from IPython.display import clear_output"
   ]
  },
  {
   "cell_type": "code",
   "execution_count": null,
   "metadata": {},
   "outputs": [],
   "source": [
    "def bad_epochs(epochs, metric):\n",
    "\n",
    "    gesd_arg = {\n",
    "        'alpha': 0.05,\n",
    "        'p_out': 0.1,\n",
    "        'outlier_side': 1\n",
    "    }\n",
    "\n",
    "    ch_index = mne.pick_types(epochs.info, eeg = True, exclude='bads')\n",
    "\n",
    "    X = epochs.get_data(picks = ch_index)\n",
    "\n",
    "    if metric == \"std\":\n",
    "        metric_func = np.std\n",
    "    elif metric == \"var\":\n",
    "        metric_func = np.var\n",
    "    else:\n",
    "        metric_func = stats.kurtosis\n",
    "\n",
    "    # Calculate the metric used to evaluate whether an epoch is bad\n",
    "    X = metric_func(X, axis=-1)\n",
    "\n",
    "    # Average over channels so we have a metric for each trial\n",
    "    X = np.mean(X, axis=1)\n",
    "\n",
    "    # Use gesd to find outliers\n",
    "    bad_epochs, _ = sails.utils.gesd(X, **gesd_arg)\n",
    "    print(f\"From EEG - {np.sum(bad_epochs)}/{X.shape[0]} epochs rejected\")\n",
    "\n",
    "    # Drop bad epochs\n",
    "    epochs.drop(bad_epochs)\n",
    "    \n",
    "    return epochs\n"
   ]
  },
  {
   "cell_type": "code",
   "execution_count": null,
   "metadata": {},
   "outputs": [],
   "source": [
    "def get_epochs(s, moment, event_id, tmin, tmax):\n",
    "\n",
    "    # Load raw and ica\n",
    "    raw_fname = dirs['raw'] + '/raw_s' + str(s) + '.fif'\n",
    "    ica_fname = dirs['ica'] + '/ica_s' + str(s) + '.fif'\n",
    "\n",
    "    raw = mne.io.read_raw_fif(raw_fname, preload = True)\n",
    "\n",
    "    # Get events\n",
    "    events = mne.find_events(raw, stim_channel = 'Status')\n",
    "    events = mne.pick_events(events, include = triggers[moment])\n",
    "\n",
    "    # Get epochs\n",
    "    epochs = mne.Epochs(raw, events, event_id,\n",
    "                        tmin = tmin, tmax = tmax, \n",
    "                        detrend = 1, preload = True,\n",
    "                        baseline = None)\n",
    "    \n",
    "    # Drop trials\n",
    "    epochs = bad_epochs(epochs, metric='var')\n",
    "    \n",
    "    # Surface laplacian\n",
    "    epochs = compute_current_source_density(epochs)\n",
    "\n",
    "    # Save\n",
    "    epoch_fname = dirs['epoch'] + '/epoch_' + moment + '_s' + str(s) + '.fif'\n",
    "    epochs.save(epoch_fname, overwrite = True)\n",
    "\n",
    "    return epochs"
   ]
  },
  {
   "cell_type": "code",
   "execution_count": null,
   "metadata": {},
   "outputs": [],
   "source": [
    "# Run for all subs\n",
    "\n",
    "for s in subjects:\n",
    "    print('Running subject ' + str(s))\n",
    "    epochs = get_epochs(s, 'enc1', event_id, -1, 4)\n",
    "    clear_output(wait=False)"
   ]
  },
  {
   "cell_type": "code",
   "execution_count": null,
   "metadata": {},
   "outputs": [],
   "source": [
    "# Run individual\n",
    "\n",
    "s = 1\n",
    "\n",
    "epochs = get_epochs(s, 'enc1', event_id, -1, 4)"
   ]
  }
 ],
 "metadata": {
  "kernelspec": {
   "display_name": "mne",
   "language": "python",
   "name": "python3"
  },
  "language_info": {
   "codemirror_mode": {
    "name": "ipython",
    "version": 3
   },
   "file_extension": ".py",
   "mimetype": "text/x-python",
   "name": "python",
   "nbconvert_exporter": "python",
   "pygments_lexer": "ipython3",
   "version": "3.10.6"
  }
 },
 "nbformat": 4,
 "nbformat_minor": 2
}

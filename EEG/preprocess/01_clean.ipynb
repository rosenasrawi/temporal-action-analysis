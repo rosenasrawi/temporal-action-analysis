{
 "cells": [
  {
   "cell_type": "code",
   "execution_count": null,
   "metadata": {},
   "outputs": [],
   "source": [
    "import mne\n",
    "import sys\n",
    "\n",
    "from functions.detect_bad import bad_channels\n",
    "\n",
    "sys.path.append('..')\n",
    "\n",
    "from _parameters import *\n",
    "sys.path.remove('..')"
   ]
  },
  {
   "cell_type": "code",
   "execution_count": null,
   "metadata": {},
   "outputs": [],
   "source": [
    "def preprocess(s: int):\n",
    "    \n",
    "    # Read data\n",
    "    ses1 = dirs['eeg'] + '/eeg_s' + str(s) + 'a.bdf'\n",
    "    ses2 = dirs['eeg'] + '/eeg_s' + str(s) + 'b.bdf'\n",
    "\n",
    "    raw1 = mne.io.read_raw_bdf(ses1, preload=True)\n",
    "    raw2 = mne.io.read_raw_bdf(ses2, preload=True)\n",
    "\n",
    "    raw = mne.concatenate_raws([raw1, raw2])\n",
    "\n",
    "    # Re-reference\n",
    "    raw.set_eeg_reference(channels['ref'])\n",
    "\n",
    "    # Bipolar emg/eog\n",
    "    raw = mne.set_bipolar_reference(raw, 'EXG3', 'EXG4', 'EOG',\n",
    "                                    copy = False, drop_refs = True)\n",
    "    raw = mne.set_bipolar_reference(raw, 'EXG5', 'EXG6', 'EMGL',\n",
    "                                    copy = False, drop_refs = True)\n",
    "    raw = mne.set_bipolar_reference(raw, 'EXG7', 'EXG8', 'EMGR',\n",
    "                                    copy = False, drop_refs = True)\n",
    "\n",
    "    raw.set_channel_types({'EOG':'eog'})\n",
    "    raw.set_channel_types({'EMGL':'emg', 'EMGR':'emg'})\n",
    "\n",
    "    # Drop and interpolate\n",
    "    raw.drop_channels(channels['drop'])\n",
    "\n",
    "    raw = bad_channels(raw, picks = \"eeg\", sig_lev=0.05)\n",
    "    raw.interpolate_bads()\n",
    "\n",
    "    # High pass filter EMG\n",
    "    raw.filter(l_freq = 60, h_freq = None, picks = ['EMGL','EMGR'])\n",
    "\n",
    "    # Resample\n",
    "    raw.resample(200)\n",
    "\n",
    "    # Montage\n",
    "    biosemi64 = mne.channels.make_standard_montage('biosemi64')\n",
    "    eeg_map = dict(zip(raw.info.ch_names[:64], biosemi64.ch_names))\n",
    "\n",
    "    raw.rename_channels(eeg_map)\n",
    "    raw.set_montage(biosemi64)\n",
    "\n",
    "    # Save clean raw\n",
    "    raw_fname = dirs['raw'] + '/raw_s' + str(s) + '.fif'\n",
    "    \n",
    "    raw.save(raw_fname, overwrite = True)\n",
    "\n",
    "    return raw"
   ]
  },
  {
   "cell_type": "code",
   "execution_count": null,
   "metadata": {},
   "outputs": [],
   "source": [
    "s = 1\n",
    "\n",
    "raw = preprocess(s)\n",
    "\n",
    "raw.info"
   ]
  }
 ],
 "metadata": {
  "kernelspec": {
   "display_name": "mne",
   "language": "python",
   "name": "python3"
  },
  "language_info": {
   "codemirror_mode": {
    "name": "ipython",
    "version": 3
   },
   "file_extension": ".py",
   "mimetype": "text/x-python",
   "name": "python",
   "nbconvert_exporter": "python",
   "pygments_lexer": "ipython3",
   "version": "3.10.6"
  }
 },
 "nbformat": 4,
 "nbformat_minor": 2
}

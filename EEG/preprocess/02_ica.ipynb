{
 "cells": [
  {
   "cell_type": "code",
   "execution_count": null,
   "metadata": {},
   "outputs": [],
   "source": [
    "import mne\n",
    "import sys\n",
    "\n",
    "sys.path.append('..')\n",
    "\n",
    "from _parameters import *\n",
    "sys.path.remove('..')\n",
    "\n",
    "import time\n",
    "from IPython.display import clear_output\n"
   ]
  },
  {
   "cell_type": "code",
   "execution_count": null,
   "metadata": {},
   "outputs": [],
   "source": [
    "def run_ica(s: int, n_components = None, auto_pick = False):\n",
    "\n",
    "    # Load raw\n",
    "    raw_fname = dirs['raw'] + '/raw_s' + str(s) + '.fif'\n",
    "    raw = mne.io.read_raw_fif(raw_fname, preload=True)\n",
    "\n",
    "    # High-pass filter\n",
    "    raw.filter(1,None)\n",
    "\n",
    "    # Fit ICA\n",
    "    ica = mne.preprocessing.ICA(n_components, max_iter=\"auto\").fit(raw)\n",
    "    \n",
    "    # EOG correlates\n",
    "    ica.exclude, scores = ica.find_bads_eog(raw)\n",
    "\n",
    "    if auto_pick: # Exclude max\n",
    "        ica.plot_scores(scores)\n",
    "        ica.plot_components(scores.argmax())\n",
    "        ica.exclude = [int(scores.argmax())]\n",
    "\n",
    "    else: # Pick components\n",
    "        ica.plot_components()\n",
    "        ica.plot_scores(scores)\n",
    "\n",
    "        bad_comp = input('Components to exclude (_,_): ').split(sep=',')\n",
    "        ica.exclude = [int(c) for c in bad_comp]\n",
    "\n",
    "    # Save\n",
    "    ica_fname = dirs['ica'] + '/ica_s' + str(s) + '.fif'\n",
    "    ica.save(ica_fname, overwrite = True)\n",
    "\n",
    "    return ica"
   ]
  },
  {
   "cell_type": "code",
   "execution_count": null,
   "metadata": {},
   "outputs": [],
   "source": [
    "# Run all subjects\n",
    "\n",
    "for s in subjects:\n",
    "    print('Running subject ' + str(s))\n",
    "    ica = run_ica(s, auto_pick = True)\n",
    "    time.sleep(5)\n",
    "    clear_output(wait=False)"
   ]
  },
  {
   "cell_type": "code",
   "execution_count": null,
   "metadata": {},
   "outputs": [],
   "source": [
    "# Run single subject\n",
    "\n",
    "s = 5\n",
    "\n",
    "ica = run_ica(s, auto_pick = False)"
   ]
  }
 ],
 "metadata": {
  "kernelspec": {
   "display_name": "mne",
   "language": "python",
   "name": "python3"
  },
  "language_info": {
   "codemirror_mode": {
    "name": "ipython",
    "version": 3
   },
   "file_extension": ".py",
   "mimetype": "text/x-python",
   "name": "python",
   "nbconvert_exporter": "python",
   "pygments_lexer": "ipython3",
   "version": "3.10.6"
  }
 },
 "nbformat": 4,
 "nbformat_minor": 2
}

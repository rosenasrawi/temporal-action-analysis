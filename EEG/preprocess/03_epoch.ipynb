{
 "cells": [
  {
   "cell_type": "code",
   "execution_count": null,
   "metadata": {},
   "outputs": [],
   "source": [
    "import mne\n",
    "import sys\n",
    "from functions.detect_bad import bad_epochs\n",
    "\n",
    "sys.path.append('..')\n",
    "\n",
    "from _parameters import *\n",
    "sys.path.remove('..')\n",
    "\n",
    "from mne.preprocessing import compute_current_source_density"
   ]
  },
  {
   "cell_type": "code",
   "execution_count": null,
   "metadata": {},
   "outputs": [],
   "source": [
    "def get_epochs(s, moment, event_id, tmin, tmax):\n",
    "\n",
    "    # Load raw and ica\n",
    "    raw_fname = dirs['raw'] + '/raw_s' + str(s) + '.fif'\n",
    "    ica_fname = dirs['ica'] + '/ica_s' + str(s) + '.fif'\n",
    "\n",
    "    raw = mne.io.read_raw_fif(raw_fname, preload = True)\n",
    "    ica = mne.preprocessing.read_ica(ica_fname)\n",
    "\n",
    "    # Apply ica\n",
    "    raw = ica.apply(raw, exclude = ica.exclude)\n",
    "\n",
    "    # Get events\n",
    "    events = mne.find_events(raw, stim_channel = 'Status')\n",
    "    events = mne.pick_events(events, include = triggers[moment])\n",
    "\n",
    "    # Get epochs\n",
    "    epochs = mne.Epochs(raw, events, event_id,\n",
    "                        tmin = tmin, tmax = tmax, \n",
    "                        detrend = 1, preload = True)\n",
    "    \n",
    "    # Drop trials\n",
    "    epochs = bad_epochs(epochs, picks=\"eeg\", metric='var', \n",
    "                        outlier_side=1, significance_level=0.05)\n",
    "       \n",
    "    # Surface laplacian\n",
    "    epochs = compute_current_source_density(epochs)\n",
    "\n",
    "    # Save\n",
    "    epoch_fname = dirs['epoch'] + '/epoch_' + moment + '_s' + str(s) + '.fif'\n",
    "    epochs.save(epoch_fname, overwrite = True)\n",
    "\n",
    "    return epochs"
   ]
  },
  {
   "cell_type": "code",
   "execution_count": null,
   "metadata": {},
   "outputs": [],
   "source": [
    "s = 1\n",
    "\n",
    "epochs = get_epochs(s, 'enc1', event_id, -1, 4)"
   ]
  }
 ],
 "metadata": {
  "kernelspec": {
   "display_name": "mne",
   "language": "python",
   "name": "python3"
  },
  "language_info": {
   "codemirror_mode": {
    "name": "ipython",
    "version": 3
   },
   "file_extension": ".py",
   "mimetype": "text/x-python",
   "name": "python",
   "nbconvert_exporter": "python",
   "pygments_lexer": "ipython3",
   "version": "3.10.6"
  }
 },
 "nbformat": 4,
 "nbformat_minor": 2
}

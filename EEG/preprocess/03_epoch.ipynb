{
 "cells": [
  {
   "cell_type": "code",
   "execution_count": 1,
   "metadata": {},
   "outputs": [],
   "source": [
    "import mne\n",
    "\n",
    "from _parameters import *"
   ]
  },
  {
   "cell_type": "code",
   "execution_count": 13,
   "metadata": {},
   "outputs": [],
   "source": [
    "def get_epochs(s, moment, tmin, tmax):\n",
    "\n",
    "    # Load raw and ica\n",
    "    raw_fname = dirs['raw'] + '/raw_s' + str(s) + '.fif'\n",
    "    ica_fname = dirs['ica'] + '/ica_s' + str(s) + '.fif'\n",
    "\n",
    "    raw = mne.io.read_raw_fif(raw_fname, preload = True)\n",
    "    ica = mne.preprocessing.read_ica(ica_fname)\n",
    "\n",
    "    # Apply ica\n",
    "    raw = ica.apply(raw, exclude = ica.exclude)\n",
    "\n",
    "    # Get events\n",
    "    events = mne.find_events(raw, stim_channel = 'Status')\n",
    "    events = mne.pick_events(events, include = triggers[moment])\n",
    "\n",
    "    # Get epochs\n",
    "    epochs = mne.Epochs(raw, events = events, \n",
    "                        tmin = tmin, tmax = tmax, \n",
    "                        detrend = 1, preload = True)\n",
    "\n",
    "    epoch_fname = dirs['epoch'] + '/epoch_' + moment + '_s' + str(s) + '.fif'\n",
    "    epochs.save(epoch_fname, overwrite = True)\n",
    "\n",
    "    return epochs"
   ]
  },
  {
   "cell_type": "code",
   "execution_count": 14,
   "metadata": {},
   "outputs": [
    {
     "name": "stdout",
     "output_type": "stream",
     "text": [
      "Opening raw data file /Users/rosenasrawi/Documents/VU PhD/Projects/rn6 - Temporal action/Data/processed/raw/raw_s1.fif...\n",
      "    Range : 0 ... 1244599 =      0.000 ...  6222.995 secs\n",
      "Ready.\n",
      "Reading 0 ... 1244599  =      0.000 ...  6222.995 secs...\n"
     ]
    },
    {
     "name": "stderr",
     "output_type": "stream",
     "text": [
      "/var/folders/5k/8wyp03753yj_s079b4fxjc780000gn/T/ipykernel_14842/1447416782.py:7: RuntimeWarning: This filename (/Users/rosenasrawi/Documents/VU PhD/Projects/rn6 - Temporal action/Data/processed/raw/raw_s1.fif) does not conform to MNE naming conventions. All raw files should end with raw.fif, raw_sss.fif, raw_tsss.fif, _meg.fif, _eeg.fif, _ieeg.fif, raw.fif.gz, raw_sss.fif.gz, raw_tsss.fif.gz, _meg.fif.gz, _eeg.fif.gz or _ieeg.fif.gz\n",
      "  raw = mne.io.read_raw_fif(raw_fname, preload = True)\n"
     ]
    },
    {
     "name": "stdout",
     "output_type": "stream",
     "text": [
      "Reading /Users/rosenasrawi/Documents/VU PhD/Projects/rn6 - Temporal action/Data/processed/ica/ica_s1.fif ...\n",
      "Now restoring ICA solution ...\n",
      "Ready.\n",
      "Applying ICA to Raw instance\n"
     ]
    },
    {
     "name": "stderr",
     "output_type": "stream",
     "text": [
      "/var/folders/5k/8wyp03753yj_s079b4fxjc780000gn/T/ipykernel_14842/1447416782.py:8: RuntimeWarning: This filename (/Users/rosenasrawi/Documents/VU PhD/Projects/rn6 - Temporal action/Data/processed/ica/ica_s1.fif) does not conform to MNE naming conventions. All ICA files should end with -ica.fif, -ica.fif.gz, _ica.fif or _ica.fif.gz\n",
      "  ica = mne.preprocessing.read_ica(ica_fname)\n"
     ]
    },
    {
     "name": "stdout",
     "output_type": "stream",
     "text": [
      "    Transforming to ICA space (46 components)\n",
      "    Zeroing out 1 ICA component\n",
      "    Projecting back using 64 PCA components\n",
      "Trigger channel has a non-zero initial value of 65536 (consider using initial_event=True to detect this event)\n",
      "Removing orphaned offset at the beginning of the file.\n",
      "3841 events found\n",
      "Event IDs: [    1     2     3     4     5     6     7     8    11    12    13    14\n",
      "    15    16    17    18    21    22    23    24    25    26    27    28\n",
      "    31    33    35    36    37    38    41    42    44    45    47    48\n",
      "    51    52    53    54    55    56    57    58    61    62    64    65\n",
      "    67    68    71    73    75    76    77    78 65536]\n",
      "Not setting metadata\n",
      "640 matching events found\n",
      "Setting baseline interval to [-1.0, 0.0] sec\n",
      "Applying baseline correction (mode: mean)\n",
      "0 projection items activated\n",
      "Using data from preloaded Raw for 640 events and 1001 original time points ...\n",
      "0 bad epochs dropped\n"
     ]
    },
    {
     "name": "stderr",
     "output_type": "stream",
     "text": [
      "/var/folders/5k/8wyp03753yj_s079b4fxjc780000gn/T/ipykernel_14842/1447416782.py:23: RuntimeWarning: This filename (/Users/rosenasrawi/Documents/VU PhD/Projects/rn6 - Temporal action/Data/processed/epoch/epoch_enc1_s1.fif) does not conform to MNE naming conventions. All epochs files should end with -epo.fif, -epo.fif.gz, _epo.fif or _epo.fif.gz\n",
      "  epochs.save(epoch_fname, overwrite = True)\n"
     ]
    },
    {
     "data": {
      "text/html": [
       "<table class=\"table table-hover table-striped table-sm table-responsive small\">\n",
       "    <tr>\n",
       "        <th>Number of events</th>\n",
       "        <td>640</td>\n",
       "    </tr>\n",
       "    <tr>\n",
       "        <th>Events</th>\n",
       "        \n",
       "        <td>1: 80<br/>2: 80<br/>3: 80<br/>4: 80<br/>5: 80<br/>6: 80<br/>7: 80<br/>8: 80</td>\n",
       "        \n",
       "    </tr>\n",
       "    <tr>\n",
       "        <th>Time range</th>\n",
       "        <td>-1.000 – 4.000 sec</td>\n",
       "    </tr>\n",
       "    <tr>\n",
       "        <th>Baseline</th>\n",
       "        <td>-1.000 – 0.000 sec</td>\n",
       "    </tr>\n",
       "</table>"
      ],
      "text/plain": [
       "<Epochs |  640 events (all good), -1 - 4 sec, baseline -1 – 0 sec, ~332.5 MB, data loaded,\n",
       " '1': 80\n",
       " '2': 80\n",
       " '3': 80\n",
       " '4': 80\n",
       " '5': 80\n",
       " '6': 80\n",
       " '7': 80\n",
       " '8': 80>"
      ]
     },
     "execution_count": 14,
     "metadata": {},
     "output_type": "execute_result"
    }
   ],
   "source": [
    "s = 1\n",
    "\n",
    "get_epochs(s, 'enc1', -1, 4)"
   ]
  }
 ],
 "metadata": {
  "kernelspec": {
   "display_name": "mne",
   "language": "python",
   "name": "python3"
  },
  "language_info": {
   "codemirror_mode": {
    "name": "ipython",
    "version": 3
   },
   "file_extension": ".py",
   "mimetype": "text/x-python",
   "name": "python",
   "nbconvert_exporter": "python",
   "pygments_lexer": "ipython3",
   "version": "3.10.6"
  }
 },
 "nbformat": 4,
 "nbformat_minor": 2
}

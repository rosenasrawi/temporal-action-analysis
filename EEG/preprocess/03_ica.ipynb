{
 "cells": [
  {
   "cell_type": "code",
   "execution_count": null,
   "metadata": {},
   "outputs": [],
   "source": [
    "import mne\n",
    "\n",
    "import os\n",
    "os.chdir('..')\n",
    "from _parameters import *\n",
    "\n",
    "import time\n",
    "from IPython.display import clear_output"
   ]
  },
  {
   "cell_type": "code",
   "execution_count": null,
   "metadata": {},
   "outputs": [],
   "source": [
    "def run_ica(s: int, moment, n_components = None, auto_pick = False):\n",
    "\n",
    "    # Load epoch\n",
    "    epoch_fname = dirs['epoch'] + '/epoch_' + moment + '_s' + str(s) + '.fif'\n",
    "    epoch = mne.read_epochs(epoch_fname, preload=True)\n",
    "\n",
    "    # High-pass filter\n",
    "    epoch.filter(1,None)\n",
    "\n",
    "    # Fit ICA\n",
    "    ica = mne.preprocessing.ICA(n_components, max_iter=\"auto\").fit(epoch)\n",
    "    \n",
    "    # EOG correlates\n",
    "    ica.exclude, scores = ica.find_bads_eog(epoch)\n",
    "\n",
    "    if auto_pick: # Exclude max\n",
    "        ica.plot_scores(scores)\n",
    "        ica.plot_components(scores.argmax())\n",
    "        ica.exclude = [int(scores.argmax())]\n",
    "\n",
    "    else: # Pick components\n",
    "        ica.plot_components()\n",
    "        ica.plot_scores(scores)\n",
    "\n",
    "        bad_comp = input('Components to exclude (_,_): ').split(sep=',')\n",
    "        ica.exclude = [int(c) for c in bad_comp]\n",
    "\n",
    "    # Save\n",
    "    ica_fname = dirs['ica'] + '/ica_' + moment + '_s' + str(s) + '.fif'\n",
    "    ica.save(ica_fname, overwrite = True)\n",
    "\n",
    "    return ica"
   ]
  },
  {
   "cell_type": "code",
   "execution_count": null,
   "metadata": {},
   "outputs": [],
   "source": [
    "# Run all subjects, locked encoding\n",
    "\n",
    "for s in subjects:\n",
    "    print('Running subject ' + str(s))\n",
    "    ica = run_ica(s, moment = 'enc1', auto_pick = False)\n",
    "    clear_output(wait=False)"
   ]
  },
  {
   "cell_type": "code",
   "execution_count": null,
   "metadata": {},
   "outputs": [],
   "source": [
    "# Run all subjects, locked probe (1)\n",
    "\n",
    "for s in subjects:\n",
    "    print('Running subject ' + str(s))\n",
    "    ica = run_ica(s, moment = 'prob1', n_components = .99, auto_pick = False)\n",
    "    clear_output(wait=False)"
   ]
  },
  {
   "cell_type": "code",
   "execution_count": null,
   "metadata": {},
   "outputs": [],
   "source": [
    "# Run all subjects, locked probe (2)\n",
    "\n",
    "for s in subjects:\n",
    "    print('Running subject ' + str(s))\n",
    "    ica = run_ica(s, moment = 'prob2', n_components = .99, auto_pick = False)\n",
    "    clear_output(wait=False)"
   ]
  },
  {
   "cell_type": "code",
   "execution_count": null,
   "metadata": {},
   "outputs": [],
   "source": [
    "# Run single subject\n",
    "\n",
    "s = 5; n_components = .99\n",
    "\n",
    "ica = run_ica(s, moment = 'prob1', n_components = n_components, auto_pick = False)"
   ]
  }
 ],
 "metadata": {
  "kernelspec": {
   "display_name": "mne",
   "language": "python",
   "name": "python3"
  },
  "language_info": {
   "codemirror_mode": {
    "name": "ipython",
    "version": 3
   },
   "file_extension": ".py",
   "mimetype": "text/x-python",
   "name": "python",
   "nbconvert_exporter": "python",
   "pygments_lexer": "ipython3",
   "version": "3.10.6"
  }
 },
 "nbformat": 4,
 "nbformat_minor": 2
}

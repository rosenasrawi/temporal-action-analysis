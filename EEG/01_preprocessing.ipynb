{
 "cells": [
  {
   "cell_type": "code",
   "execution_count": null,
   "metadata": {},
   "outputs": [],
   "source": [
    "import pandas as pd\n",
    "import numpy as np\n",
    "import mne\n",
    "\n",
    "from functions.bad_channels import bad_channels\n",
    "from _parameters import *"
   ]
  },
  {
   "cell_type": "code",
   "execution_count": null,
   "metadata": {},
   "outputs": [],
   "source": [
    "def preprocess(s: int, file: str):\n",
    "    \n",
    "    # Read data\n",
    "    ses1, ses2 = file\n",
    "\n",
    "    raw1 = mne.io.read_raw_bdf(ses1, preload=True)\n",
    "    raw2 = mne.io.read_raw_bdf(ses2, preload=True)\n",
    "\n",
    "    raw = mne.concatenate_raws([raw1, raw2])\n",
    "\n",
    "    # Re-reference\n",
    "    raw.set_eeg_reference(channels['ref'])\n",
    "\n",
    "    # Bipolar emg/eog\n",
    "    raw = mne.set_bipolar_reference(raw, 'EXG3', 'EXG4', 'EOG',\n",
    "                                    copy = False, drop_refs = True)\n",
    "    raw = mne.set_bipolar_reference(raw, 'EXG5', 'EXG6', 'EMGL',\n",
    "                                    copy = False, drop_refs = True)\n",
    "    raw = mne.set_bipolar_reference(raw, 'EXG7', 'EXG8', 'EMGR',\n",
    "                                    copy = False, drop_refs = True)\n",
    "\n",
    "    raw.set_channel_types({'EOG':'eog'})\n",
    "    raw.set_channel_types({'EMGL':'emg', 'EMGR':'emg'})\n",
    "\n",
    "    # Drop and interpolate\n",
    "    raw.drop_channels(channels['drop'])\n",
    "\n",
    "    raw = bad_channels(raw, picks = \"eeg\", sig_lev=0.05)\n",
    "    raw.interpolate_bads()\n",
    "\n",
    "    # High pass filter EMG\n",
    "    raw.filter(l_freq = 60, h_freq = None, picks = ['EMGL','EMGR'])\n",
    "\n",
    "    # Resample\n",
    "    raw.resample(200)\n",
    "\n",
    "    # Montage\n",
    "    biosemi64 = mne.channels.make_standard_montage('biosemi64')\n",
    "    eeg_map = dict(zip(raw.info.ch_names[:64],biosemi64.ch_names))\n",
    "\n",
    "    raw.rename_channels(eeg_map)\n",
    "    raw.set_montage(biosemi64)\n",
    "\n",
    "    # Save clean raw\n",
    "    raw_fname = dirs['home'] + dirs['raw'] + '/raw_s' + str(s) + '.fif'\n",
    "    \n",
    "    raw.save(raw_fname, overwrite = True)\n",
    "\n",
    "    return raw"
   ]
  },
  {
   "cell_type": "code",
   "execution_count": null,
   "metadata": {},
   "outputs": [],
   "source": [
    "s = 1; file = files['eeg'][0]\n",
    "\n",
    "raw = preprocess(s, file)\n",
    "\n",
    "raw.info"
   ]
  },
  {
   "cell_type": "code",
   "execution_count": null,
   "metadata": {},
   "outputs": [],
   "source": [
    "def run_ica(s: int, raw, auto_pick = False):\n",
    "\n",
    "    # High-pass filter\n",
    "    raw.filter(1,None)\n",
    "\n",
    "    # Fit ICA\n",
    "    ica = mne.preprocessing.ICA(n_components=.99, max_iter=\"auto\").fit(raw)\n",
    "    \n",
    "    # EOG correlates\n",
    "    ica.exclude, scores = ica.find_bads_eog(raw)\n",
    "\n",
    "    if auto_pick: # Exclude max\n",
    "        ica.plot_scores(scores)\n",
    "        ica.plot_components(scores.argmax())\n",
    "        ica.exclude = [int(scores.argmax())]\n",
    "\n",
    "    else: # Pick components\n",
    "        ica.plot_components()\n",
    "        ica.plot_scores(scores)\n",
    "\n",
    "        bad_comp = input('Components to exclude (_,_): ').split(sep=',')\n",
    "        ica.exclude = [int(c) for c in bad_comp]\n",
    "\n",
    "    # Save\n",
    "    ica_fname = dirs['home'] + dirs['ica'] + '/ica_s' + str(s) + '.fif'\n",
    "    ica.save(ica_fname, overwrite = True)\n",
    "\n",
    "    return ica"
   ]
  },
  {
   "cell_type": "code",
   "execution_count": null,
   "metadata": {},
   "outputs": [],
   "source": [
    "ica = run_ica(1, raw, auto_pick = True)"
   ]
  }
 ],
 "metadata": {
  "kernelspec": {
   "display_name": "mne",
   "language": "python",
   "name": "python3"
  },
  "language_info": {
   "codemirror_mode": {
    "name": "ipython",
    "version": 3
   },
   "file_extension": ".py",
   "mimetype": "text/x-python",
   "name": "python",
   "nbconvert_exporter": "python",
   "pygments_lexer": "ipython3",
   "version": "3.10.6"
  }
 },
 "nbformat": 4,
 "nbformat_minor": 2
}
